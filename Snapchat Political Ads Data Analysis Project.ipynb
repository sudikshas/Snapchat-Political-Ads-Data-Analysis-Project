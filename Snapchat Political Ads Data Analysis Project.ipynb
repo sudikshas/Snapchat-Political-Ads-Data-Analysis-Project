{
 "cells": [
  {
   "cell_type": "markdown",
   "metadata": {},
   "source": [
    "## Snapchat Political Ads Analysis Project\n",
    "### By: Sudiksha Sarvepalli and Raechel Walker"
   ]
  },
  {
   "cell_type": "markdown",
   "metadata": {},
   "source": [
    "This project uses political ads data from Snapchat, a popular social media app. "
   ]
  },
  {
   "cell_type": "markdown",
   "metadata": {},
   "source": [
    "# Part 1: Data Cleaning and EDA & Hypothesis Testing"
   ]
  },
  {
   "cell_type": "markdown",
   "metadata": {},
   "source": [
    "## Summary of Findings"
   ]
  },
  {
   "cell_type": "markdown",
   "metadata": {},
   "source": [
    "### Introduction\n",
    "The dataset we chose to observe is the Snapchat political ads and provides information such as the amount of money spent by advertisers, the number of views, the organization name, country targeting criteria, gender targeting criteria, and more information about what the ads are specifically targeting. The purposde of collecting data about this is to be abke to perform analysis to observe what are the common characteristics of specific subsets of all the ads such as the more popular, larger reach ads. The question we are analyzing is: What are some of the characteristics that have an influence in whether a political ad on Snapchat has a low or high number of views by Snapchatters. Therefore, we can observe patterns in the values of some of the columns regarding the location, amount of money spent towards the ads, and more and see if there is a difference in the distributions of thesde characteristics between larger and smaller reach ads. This dataset has only a fdew columns with missingness and a lot of the columns that have missing values represent a value so a lot of information is collected in this dataset to perform analysis on.\n",
    "\n",
    "### Cleaning and EDA\n",
    "In order to complete the bivariate chart called,\"Part of day ad was released based on the number of weeks that the ad was on Snapchat\", we held the duration constant by grouping the values with similar durations together.The independent variable is the time of day that the political ad is released on SnapChat.The dependent variable is the number of views for each ad. Moreover, there was a lot data cleaning that I had to complete in order to make to complete this bivariate analysis: In order to determine which the time of day(\"morning\",\"evening\",and \"afternon\") that is a video is uploaded results in the greatest number of views, we had to convert the time stamp in the \"StartDate\" column to the companies correct time zone. In order to convert the timestamp to the correct timezone, I had to ensure that we extracted the correct city and country from the \"BillingAdress\" column. The \"BillingAddress\" column contains the city and country where the company that created the ad originated from. In order to clean the \"BillingAddress\" column, I had to do \"address.split(\",\")\", which allowed me to get the index of the city and country In order to create the \"Time_Zone\" column, I had to look for strings that contained a specific country or state. I know that this is the correct way to extract the city and country because I was able to see that all of the rows follow the pattern of the city and county being in a specific index in the \"BillingAddress\" column. After I identified the specific country or state of a company, I was used an apply function that assigned a specific location a predetermined timezone by creating the \"Time_Zone\" column(which contains the timezone for the city).In order to convert the timestamp in the \"StartDate\" to the correct timezone, I used an apply function to convert the timestamp into the correct timezone based on the the value in the \"Time_Zone\" column. Since the majority of the cities in this dataset are Washington D.C(581 ads orginated from Washington D.C) and CA(about 60), I assigned those location their respectice timezone. Due to the fact there are only a few(less than 100) addresses that aren't Washington D.C,are just United States or CA, we can just convert their time zone to be eastern time because 30 is such of a small number that it won't incorrectly skew the data. In order to assign a part of day label (morning,afternoon,evening) to the timestamp in the \"StartDate\" column, I used the apply function on the \"converted_start_date\" column to get the part of day based on the hour of the day. I saved the results from the function that got the part of day for each timestamp into a column called \"Part_of_day_released\". Also, I created a column called \"Weeks\", so that I could easily distinguish the duration that video was on Snapchat on the \"Part of day ad was released based on the number of weeks that the ad was on the app graph in a way that was still significant but not overly detailed.\n",
    "\n",
    "### Assessment of Missingness\n",
    "I think that the 'LocationType' is NMAR beause just looking at the data the 'LocationType' has only 9 non-null values and this column does not appear to be related to the values of another column such as maybe 'Location' so because the missingness of this column can't seem to be explained by the observable data I am assuming that this data is NMAR and is dependent on its own values itself. We could add another column such as 'City' to help describe what the specific physical location is to gain a better understanding of what information is provided fron these targeted locations.\n",
    "We used permutation tests to assess the missingness of a column with missing values to other columns that it could be dependent on. I found the columns with missing values and they all were categorical. Therefore, we are using total variation distance (TVD) as the test statistic for the permutation test. We then tested one of these missingness columns against other categorical columns that don't have missing values in the dataset. The results of the permutation tests show that the column 'LocationType' can be explained by data from additional columns that we added to the data such as 'High_Low_Count'. 'LocationType' dependency on 'High_Low_Count' resulted in p-value of 0.797 which is greater than 0.05 significance level so the distributions of the null vs non- null distributions of the 'LocationType' on the 'High_Low_Count' column are similar and therefore 'LocationType' is not dependent (MCAR) on 'High_Low_Count'. 'LocationType' dependency on 'City' resulted in a p-value of 0.013 which is less than our significance level of 0.05 and this shows us that the distributions of the null vs non-null distributions of \"LocationType\" on the \"City\" column is different which means that the \"LocationType\" could be MAR dependent on the \"City\" column. The missingness of LocationType can therefore be explained by the values in 'City' which means that depending on information available about certain cities the availability of the 'LocationType' could vary. Also, we can determine that 'LocationType'data is not explained by 'High_Low_Count' which means that the 'LocationType' characteristic does not have a great influence on the number of views of the ads which helps us learn more about the columns of the data we are analyzing to learn more about what affects the data in the 'Impressions' columns of high and low view count ads. After the permutation tests, we can assess that the data is not NMAR since one of the columns with missing values has its missingness dependent on another column so it can be explained by observable data and there are other columns that it is not dependent on. Therefore, since we can say that some of the columns are MAR or MCAR the data is not NMAR.This means that This distribution between the amount spent on an ad and the part of day that the video was posted for high and low view count are the same.\n",
    "\n",
    "### Hypothesis Test\n",
    "In order to turn the number of views into two groups(ads with High view count and low view count), we had to find the median from the \"Impressions\" column. Since the median of the values in the \"Impressions\" column is 69228.0, all values less than 69228.0 are considered to be in the \"low view count\" group. Impressions that are higher than 69228.0 are in the \"high view count\" group. This works because half of the companies are in each group. 1094 companies are in the high view count group and 1095 companies are in the low view count group.\n",
    "Since we are testing the effect of two characteristics(part of day the ad was released, and the the amount spent on the ad), we decided to complete two permuation test. The first permutation test corresponds with the null hypothesis that \"Companies that spend a lot of money on their Ad and companies that spend a small amount of money on their ad will get the same amount of views\". The alternative hypothesis that corresponds with the first permutation test is \"Companies that spend a lot of money on their Ad and companies that spend a small amount of money on their ad will get a different amount of views\". The test statistic for finding whether the amount of money that a company spends on an ad is the same for ads with a low view count and high view count, is the absolute difference between the mean amount of money spent from ads with high views and low views. The two groups were the ads that got a lot of views and the ads that got a small amount of views. The significane level is .05. The p-value is 0.0. Since the p-value is less than .05, we can reject our null hypothesis. This means that the distribution of the amount spent on an ad that had a high view count and the distribution of the amount spent on an ad that had a low view count are different. The test statistic is abs_diff_in_means.\n",
    "The second permutation test corresponds with the null hypothesis that \"Companies that posted their ad in the moring, evening, and afternoon got the same amount of views\". The alternative hypothesis is \"Companies that posted their ad in either the moring, evening, and afternoon all got a different amount of views\". The test statistic is the tvd. We got the tvd of the distribution of values in \"Part of day released\" between the two groups, high view count and low view count. The significane level is .05. The pvalue is 0.0. Since the p-value is less than .05, we can reject our null hypothesis. This means that the distribution of the part of the day posted on an ad that had a high view count and the distribution of the part of the day posted on an ad that had a low view count are different.\n",
    "The null hypotheses explain that there is no difference in certain characteristics for high and low viewings ads which is a good null hypothesis to help test our question about whether there are differences in characteristics for high viewing ads than low viewing ads. The alternative hypothesis helps in our analysis of our question by testing whether there is a difference in certain characteristics between high and low viewing ads. The test statistic of absolute mean difference is a good choice for the first hypothesis test in which we are finding the differences in distributions of the 'Spend\" column for larger reach versus smaller reach ads since 'Spend' is a quantitative column and since we are just trying to find if there is a significant difference between the two groups. The test statistic we are using for the second hypothesis test that is comparing the distributions of the 'Part_of_Day_released' of large reach versus small reach ads is total variation distance (TVD) which is a good choice because 'Part_of_Day_released' is a categorical column so we can compare the distribution of values in 'Part_of_Day_released' for the two groups of ads to see if the time of day affects the number of views received by the ads.\n",
    "\n",
    "### Conclusion\n",
    "One of the ways that I would ensure that the number of views for an ad that was posted at a certain part of the day are correct is by finding the correct time zone fore every entry. I wasn't able to get the correct timezone for every city because it would take me to long to hand code the correct timezone for 115 unique cities in the data set. Due to my inability to find a python package that could take the city of from every address and find it's timezone, some cities in Asia or smaller cities internationally didn't have the correct timezone. In order to find the best characteristics that are the most indicative of a high view count, we would have liked to use the Age bracket column. However, this column contained very broad data because the majority of the columns state that the age bracket is from 18-34. We would like to use a dataset that gives more specific age to see how age of the audience being targeted might have an effect on how many views the ad receives."
   ]
  },
  {
   "cell_type": "markdown",
   "metadata": {},
   "source": [
    "## Code"
   ]
  },
  {
   "cell_type": "code",
   "execution_count": 4,
   "metadata": {},
   "outputs": [],
   "source": [
    "import matplotlib.pyplot as plt\n",
    "import numpy as np\n",
    "import os\n",
    "import pandas as pd\n",
    "import seaborn as sns\n",
    "%matplotlib inline\n",
    "%config InlineBackend.figure_format = 'retina'"
   ]
  },
  {
   "cell_type": "markdown",
   "metadata": {},
   "source": [
    "## Cleaning and EDA"
   ]
  },
  {
   "cell_type": "markdown",
   "metadata": {},
   "source": [
    "Concat the dataframes of ads from 2018 and 2019 into one combined dataframe."
   ]
  },
  {
   "cell_type": "code",
   "execution_count": 10,
   "metadata": {},
   "outputs": [
    {
     "data": {
      "text/html": [
       "<div>\n",
       "<style scoped>\n",
       "    .dataframe tbody tr th:only-of-type {\n",
       "        vertical-align: middle;\n",
       "    }\n",
       "\n",
       "    .dataframe tbody tr th {\n",
       "        vertical-align: top;\n",
       "    }\n",
       "\n",
       "    .dataframe thead th {\n",
       "        text-align: right;\n",
       "    }\n",
       "</style>\n",
       "<table border=\"1\" class=\"dataframe\">\n",
       "  <thead>\n",
       "    <tr style=\"text-align: right;\">\n",
       "      <th></th>\n",
       "      <th>ADID</th>\n",
       "      <th>CreativeUrl</th>\n",
       "      <th>Spend</th>\n",
       "      <th>Impressions</th>\n",
       "      <th>StartDate</th>\n",
       "      <th>EndDate</th>\n",
       "      <th>OrganizationName</th>\n",
       "      <th>BillingAddress</th>\n",
       "      <th>CandidateBallotInformation</th>\n",
       "      <th>PayingAdvertiserName</th>\n",
       "      <th>...</th>\n",
       "      <th>Interests</th>\n",
       "      <th>OsType</th>\n",
       "      <th>Segments</th>\n",
       "      <th>LocationType</th>\n",
       "      <th>Language</th>\n",
       "      <th>AdvancedDemographics</th>\n",
       "      <th>Targeting Connection Type</th>\n",
       "      <th>Targeting Carrier (ISP)</th>\n",
       "      <th>Targeting Geo - Postal Code</th>\n",
       "      <th>CreativeProperties</th>\n",
       "    </tr>\n",
       "  </thead>\n",
       "  <tbody>\n",
       "    <tr>\n",
       "      <th>0</th>\n",
       "      <td>58be4f8f92574108faaa4c014b579a9de2afb06410add9...</td>\n",
       "      <td>https://www.snap.com/political-ads/asset/b3074...</td>\n",
       "      <td>2048</td>\n",
       "      <td>186004</td>\n",
       "      <td>2018/10/18 19:42:18Z</td>\n",
       "      <td>2018/11/06 23:00:00Z</td>\n",
       "      <td>Bully Pulpit Interactive</td>\n",
       "      <td>1140 Connecticut Ave NW, Suite 800,Washington,...</td>\n",
       "      <td>NaN</td>\n",
       "      <td>NextGen America</td>\n",
       "      <td>...</td>\n",
       "      <td>NaN</td>\n",
       "      <td>NaN</td>\n",
       "      <td>NaN</td>\n",
       "      <td>NaN</td>\n",
       "      <td>NaN</td>\n",
       "      <td>NaN</td>\n",
       "      <td>NaN</td>\n",
       "      <td>NaN</td>\n",
       "      <td>89120,89169,89119,89108,89110,89103,89160,8916...</td>\n",
       "      <td>NaN</td>\n",
       "    </tr>\n",
       "    <tr>\n",
       "      <th>1</th>\n",
       "      <td>82288288e3e363f5e61cb23bacec3831888132c17193c2...</td>\n",
       "      <td>https://www.snap.com/political-ads/asset/c6cbb...</td>\n",
       "      <td>1025</td>\n",
       "      <td>335092</td>\n",
       "      <td>2018/08/25 14:00:00Z</td>\n",
       "      <td>2018/09/08 13:59:59Z</td>\n",
       "      <td>Tubemogul, Inc.</td>\n",
       "      <td>1250 53rd Street,,,Emeryville,94608,US</td>\n",
       "      <td>NaN</td>\n",
       "      <td>Liberal Party</td>\n",
       "      <td>...</td>\n",
       "      <td>Social Drinkers,Clubbers &amp; Party People,Concer...</td>\n",
       "      <td>NaN</td>\n",
       "      <td>Provided by Advertiser</td>\n",
       "      <td>NaN</td>\n",
       "      <td>NaN</td>\n",
       "      <td>NaN</td>\n",
       "      <td>NaN</td>\n",
       "      <td>NaN</td>\n",
       "      <td>NaN</td>\n",
       "      <td>NaN</td>\n",
       "    </tr>\n",
       "    <tr>\n",
       "      <th>2</th>\n",
       "      <td>bc873a18a6bc1d6b17df5f4d699a621b7a84d14a26f499...</td>\n",
       "      <td>https://www.snap.com/political-ads/asset/31719...</td>\n",
       "      <td>924</td>\n",
       "      <td>399010</td>\n",
       "      <td>2018/10/09 15:51:44Z</td>\n",
       "      <td>2018/11/07 03:00:00Z</td>\n",
       "      <td>Penna Powers</td>\n",
       "      <td>1706 s major street,salt lake city,84115,US</td>\n",
       "      <td>NaN</td>\n",
       "      <td>Lieutenant Governor's Office</td>\n",
       "      <td>...</td>\n",
       "      <td>NaN</td>\n",
       "      <td>NaN</td>\n",
       "      <td>Provided by Advertiser</td>\n",
       "      <td>NaN</td>\n",
       "      <td>NaN</td>\n",
       "      <td>NaN</td>\n",
       "      <td>NaN</td>\n",
       "      <td>NaN</td>\n",
       "      <td>NaN</td>\n",
       "      <td>NaN</td>\n",
       "    </tr>\n",
       "    <tr>\n",
       "      <th>3</th>\n",
       "      <td>8d6bd945e484a50d899364c618d8e30b8918813a2877c8...</td>\n",
       "      <td>https://www.snap.com/political-ads/asset/d02f2...</td>\n",
       "      <td>1096</td>\n",
       "      <td>365035</td>\n",
       "      <td>2018/08/25 14:00:00Z</td>\n",
       "      <td>2018/09/08 13:59:59Z</td>\n",
       "      <td>Tubemogul, Inc.</td>\n",
       "      <td>1250 53rd Street,,,Emeryville,94608,US</td>\n",
       "      <td>NaN</td>\n",
       "      <td>Liberal Party</td>\n",
       "      <td>...</td>\n",
       "      <td>Social Drinkers,Clubbers &amp; Party People,Concer...</td>\n",
       "      <td>NaN</td>\n",
       "      <td>Provided by Advertiser</td>\n",
       "      <td>NaN</td>\n",
       "      <td>NaN</td>\n",
       "      <td>NaN</td>\n",
       "      <td>NaN</td>\n",
       "      <td>NaN</td>\n",
       "      <td>NaN</td>\n",
       "      <td>NaN</td>\n",
       "    </tr>\n",
       "    <tr>\n",
       "      <th>4</th>\n",
       "      <td>14535fea019a9b1a910a77ce1555af8bdedbb5c78fb60a...</td>\n",
       "      <td>https://www.snap.com/political-ads/asset/754f6...</td>\n",
       "      <td>6743</td>\n",
       "      <td>3149886</td>\n",
       "      <td>2018/10/06 01:11:41Z</td>\n",
       "      <td>2018/11/07 03:00:00Z</td>\n",
       "      <td>Lockwood Strategy</td>\n",
       "      <td>US</td>\n",
       "      <td>NaN</td>\n",
       "      <td>Change Now</td>\n",
       "      <td>...</td>\n",
       "      <td>TV Live Event Viewers (The Academy Awards),TV ...</td>\n",
       "      <td>NaN</td>\n",
       "      <td>Provided by Advertiser</td>\n",
       "      <td>NaN</td>\n",
       "      <td>NaN</td>\n",
       "      <td>NaN</td>\n",
       "      <td>NaN</td>\n",
       "      <td>NaN</td>\n",
       "      <td>NaN</td>\n",
       "      <td>web_view_url:https://action.socalhealthcarecoa...</td>\n",
       "    </tr>\n",
       "  </tbody>\n",
       "</table>\n",
       "<p>5 rows × 27 columns</p>\n",
       "</div>"
      ],
      "text/plain": [
       "                                                ADID  \\\n",
       "0  58be4f8f92574108faaa4c014b579a9de2afb06410add9...   \n",
       "1  82288288e3e363f5e61cb23bacec3831888132c17193c2...   \n",
       "2  bc873a18a6bc1d6b17df5f4d699a621b7a84d14a26f499...   \n",
       "3  8d6bd945e484a50d899364c618d8e30b8918813a2877c8...   \n",
       "4  14535fea019a9b1a910a77ce1555af8bdedbb5c78fb60a...   \n",
       "\n",
       "                                         CreativeUrl  Spend  Impressions  \\\n",
       "0  https://www.snap.com/political-ads/asset/b3074...   2048       186004   \n",
       "1  https://www.snap.com/political-ads/asset/c6cbb...   1025       335092   \n",
       "2  https://www.snap.com/political-ads/asset/31719...    924       399010   \n",
       "3  https://www.snap.com/political-ads/asset/d02f2...   1096       365035   \n",
       "4  https://www.snap.com/political-ads/asset/754f6...   6743      3149886   \n",
       "\n",
       "              StartDate               EndDate          OrganizationName  \\\n",
       "0  2018/10/18 19:42:18Z  2018/11/06 23:00:00Z  Bully Pulpit Interactive   \n",
       "1  2018/08/25 14:00:00Z  2018/09/08 13:59:59Z           Tubemogul, Inc.   \n",
       "2  2018/10/09 15:51:44Z  2018/11/07 03:00:00Z             Penna Powers    \n",
       "3  2018/08/25 14:00:00Z  2018/09/08 13:59:59Z           Tubemogul, Inc.   \n",
       "4  2018/10/06 01:11:41Z  2018/11/07 03:00:00Z         Lockwood Strategy   \n",
       "\n",
       "                                      BillingAddress  \\\n",
       "0  1140 Connecticut Ave NW, Suite 800,Washington,...   \n",
       "1             1250 53rd Street,,,Emeryville,94608,US   \n",
       "2        1706 s major street,salt lake city,84115,US   \n",
       "3             1250 53rd Street,,,Emeryville,94608,US   \n",
       "4                                                 US   \n",
       "\n",
       "  CandidateBallotInformation          PayingAdvertiserName  \\\n",
       "0                        NaN               NextGen America   \n",
       "1                        NaN                 Liberal Party   \n",
       "2                        NaN  Lieutenant Governor's Office   \n",
       "3                        NaN                 Liberal Party   \n",
       "4                        NaN                    Change Now   \n",
       "\n",
       "                         ...                          \\\n",
       "0                        ...                           \n",
       "1                        ...                           \n",
       "2                        ...                           \n",
       "3                        ...                           \n",
       "4                        ...                           \n",
       "\n",
       "                                           Interests OsType  \\\n",
       "0                                                NaN    NaN   \n",
       "1  Social Drinkers,Clubbers & Party People,Concer...    NaN   \n",
       "2                                                NaN    NaN   \n",
       "3  Social Drinkers,Clubbers & Party People,Concer...    NaN   \n",
       "4  TV Live Event Viewers (The Academy Awards),TV ...    NaN   \n",
       "\n",
       "                 Segments LocationType Language  AdvancedDemographics  \\\n",
       "0                     NaN          NaN      NaN                   NaN   \n",
       "1  Provided by Advertiser          NaN      NaN                   NaN   \n",
       "2  Provided by Advertiser          NaN      NaN                   NaN   \n",
       "3  Provided by Advertiser          NaN      NaN                   NaN   \n",
       "4  Provided by Advertiser          NaN      NaN                   NaN   \n",
       "\n",
       "  Targeting Connection Type Targeting Carrier (ISP)  \\\n",
       "0                       NaN                     NaN   \n",
       "1                       NaN                     NaN   \n",
       "2                       NaN                     NaN   \n",
       "3                       NaN                     NaN   \n",
       "4                       NaN                     NaN   \n",
       "\n",
       "                         Targeting Geo - Postal Code  \\\n",
       "0  89120,89169,89119,89108,89110,89103,89160,8916...   \n",
       "1                                                NaN   \n",
       "2                                                NaN   \n",
       "3                                                NaN   \n",
       "4                                                NaN   \n",
       "\n",
       "                                  CreativeProperties  \n",
       "0                                                NaN  \n",
       "1                                                NaN  \n",
       "2                                                NaN  \n",
       "3                                                NaN  \n",
       "4  web_view_url:https://action.socalhealthcarecoa...  \n",
       "\n",
       "[5 rows x 27 columns]"
      ]
     },
     "execution_count": 10,
     "metadata": {},
     "output_type": "execute_result"
    }
   ],
   "source": [
    "# load the data frame\n",
    "ads_2018 = pd.read_csv(\"PoliticalAds_2018/PoliticalAds.csv\")\n",
    "ads_2018.head()\n",
    "ads_2019 = pd.read_csv(\"PoliticalAds_2019/PoliticalAds.csv\")\n",
    "ads_2019.head()\n",
    "ads = pd.concat([ads_2018, ads_2019])\n",
    "ads_copy = ads.copy()\n",
    "ads_copy.head()"
   ]
  },
  {
   "cell_type": "code",
   "execution_count": 18,
   "metadata": {},
   "outputs": [],
   "source": [
    "#I have to hard code a dictionary that maps the specific cities to a timezone\n",
    "import pytz\n",
    "tz_areas = pytz.all_timezones\n",
    "from pytz import timezone"
   ]
  },
  {
   "cell_type": "code",
   "execution_count": null,
   "metadata": {},
   "outputs": [],
   "source": [
    "Since the majority of the cities in this dataset are Washington D.C(581 ads orginated from\n",
    "Washington D.C) and CA(about 60), I labeled those respective cities with. Due to the fact there\n",
    "are only a few(less than 30) addresses that aren't Washington D.C or CA, we can just convert\n",
    "their time zone to be eastern time because 30 is such of a small number that it wont' wrongly\n",
    "predict that a different time of the day is more indicative of the most views per video."
   ]
  },
  {
   "cell_type": "code",
   "execution_count": 16,
   "metadata": {},
   "outputs": [],
   "source": [
    "def time_zone(row):\n",
    "    #based on the city, assign it a specific time zone\n",
    "    new_row=row.split(\",\")\n",
    "    if \"US\" in new_row:\n",
    "        return 'US/Eastern'\n",
    "    if \"CA\" in new_row:\n",
    "        return \"US/Pacific\"\n",
    "    if \"NO\" or \"FR\" or \"GB\" or \"DK\" or \"BE\" or \"NL\" or \"AT\" or \"CH\" or \"NL\" or \"IE\" or \"SE\" in new_row:\n",
    "        return \"Europe/Amsterdam\"\n",
    "    if \"IN\" in new_row:\n",
    "        return \"Asia/Seoul\"\n",
    "    if \"AU\" in new_row:\n",
    "        return \"Australia/ACT\"\n",
    "    if \"ZA\" in new_row:\n",
    "        return \"Egypt\"\n",
    "    if \"AR\" in new_row:\n",
    "        return 'America/Argentina/Buenos_Aires'\n",
    "lst=['US/Eastern',\"US/Pacific\",\"Europe/Amsterdam\",\"Asia/Seoul\", \"Australia/ACT\", \"Egypt\", \n",
    "         'America/Argentina/Buenos_Aires']"
   ]
  },
  {
   "cell_type": "markdown",
   "metadata": {},
   "source": [
    "Our main goal was to find the timezone of every recorded time in the StartDate and EndDate\n",
    "column, so that we can get an accurate sense of the time of day when the most views occurred."
   ]
  },
  {
   "cell_type": "code",
   "execution_count": 17,
   "metadata": {},
   "outputs": [
    {
     "data": {
      "text/html": [
       "<div>\n",
       "<style scoped>\n",
       "    .dataframe tbody tr th:only-of-type {\n",
       "        vertical-align: middle;\n",
       "    }\n",
       "\n",
       "    .dataframe tbody tr th {\n",
       "        vertical-align: top;\n",
       "    }\n",
       "\n",
       "    .dataframe thead th {\n",
       "        text-align: right;\n",
       "    }\n",
       "</style>\n",
       "<table border=\"1\" class=\"dataframe\">\n",
       "  <thead>\n",
       "    <tr style=\"text-align: right;\">\n",
       "      <th></th>\n",
       "      <th>ADID</th>\n",
       "      <th>CreativeUrl</th>\n",
       "      <th>Spend</th>\n",
       "      <th>Impressions</th>\n",
       "      <th>StartDate</th>\n",
       "      <th>EndDate</th>\n",
       "      <th>OrganizationName</th>\n",
       "      <th>BillingAddress</th>\n",
       "      <th>CandidateBallotInformation</th>\n",
       "      <th>PayingAdvertiserName</th>\n",
       "      <th>...</th>\n",
       "      <th>OsType</th>\n",
       "      <th>Segments</th>\n",
       "      <th>LocationType</th>\n",
       "      <th>Language</th>\n",
       "      <th>AdvancedDemographics</th>\n",
       "      <th>Targeting Connection Type</th>\n",
       "      <th>Targeting Carrier (ISP)</th>\n",
       "      <th>Targeting Geo - Postal Code</th>\n",
       "      <th>CreativeProperties</th>\n",
       "      <th>City</th>\n",
       "    </tr>\n",
       "  </thead>\n",
       "  <tbody>\n",
       "    <tr>\n",
       "      <th>0</th>\n",
       "      <td>58be4f8f92574108faaa4c014b579a9de2afb06410add9...</td>\n",
       "      <td>https://www.snap.com/political-ads/asset/b3074...</td>\n",
       "      <td>2048</td>\n",
       "      <td>186004</td>\n",
       "      <td>2018/10/18 19:42:18Z</td>\n",
       "      <td>2018/11/06 23:00:00Z</td>\n",
       "      <td>Bully Pulpit Interactive</td>\n",
       "      <td>1140 Connecticut Ave NW, Suite 800,Washington,...</td>\n",
       "      <td>NaN</td>\n",
       "      <td>NextGen America</td>\n",
       "      <td>...</td>\n",
       "      <td>NaN</td>\n",
       "      <td>NaN</td>\n",
       "      <td>NaN</td>\n",
       "      <td>NaN</td>\n",
       "      <td>NaN</td>\n",
       "      <td>NaN</td>\n",
       "      <td>NaN</td>\n",
       "      <td>89120,89169,89119,89108,89110,89103,89160,8916...</td>\n",
       "      <td>NaN</td>\n",
       "      <td>Washington,US</td>\n",
       "    </tr>\n",
       "    <tr>\n",
       "      <th>1</th>\n",
       "      <td>82288288e3e363f5e61cb23bacec3831888132c17193c2...</td>\n",
       "      <td>https://www.snap.com/political-ads/asset/c6cbb...</td>\n",
       "      <td>1025</td>\n",
       "      <td>335092</td>\n",
       "      <td>2018/08/25 14:00:00Z</td>\n",
       "      <td>2018/09/08 13:59:59Z</td>\n",
       "      <td>Tubemogul, Inc.</td>\n",
       "      <td>1250 53rd Street,,,Emeryville,94608,US</td>\n",
       "      <td>NaN</td>\n",
       "      <td>Liberal Party</td>\n",
       "      <td>...</td>\n",
       "      <td>NaN</td>\n",
       "      <td>Provided by Advertiser</td>\n",
       "      <td>NaN</td>\n",
       "      <td>NaN</td>\n",
       "      <td>NaN</td>\n",
       "      <td>NaN</td>\n",
       "      <td>NaN</td>\n",
       "      <td>NaN</td>\n",
       "      <td>NaN</td>\n",
       "      <td>Emeryville,US</td>\n",
       "    </tr>\n",
       "    <tr>\n",
       "      <th>2</th>\n",
       "      <td>bc873a18a6bc1d6b17df5f4d699a621b7a84d14a26f499...</td>\n",
       "      <td>https://www.snap.com/political-ads/asset/31719...</td>\n",
       "      <td>924</td>\n",
       "      <td>399010</td>\n",
       "      <td>2018/10/09 15:51:44Z</td>\n",
       "      <td>2018/11/07 03:00:00Z</td>\n",
       "      <td>Penna Powers</td>\n",
       "      <td>1706 s major street,salt lake city,84115,US</td>\n",
       "      <td>NaN</td>\n",
       "      <td>Lieutenant Governor's Office</td>\n",
       "      <td>...</td>\n",
       "      <td>NaN</td>\n",
       "      <td>Provided by Advertiser</td>\n",
       "      <td>NaN</td>\n",
       "      <td>NaN</td>\n",
       "      <td>NaN</td>\n",
       "      <td>NaN</td>\n",
       "      <td>NaN</td>\n",
       "      <td>NaN</td>\n",
       "      <td>NaN</td>\n",
       "      <td>salt lake city,US</td>\n",
       "    </tr>\n",
       "    <tr>\n",
       "      <th>3</th>\n",
       "      <td>8d6bd945e484a50d899364c618d8e30b8918813a2877c8...</td>\n",
       "      <td>https://www.snap.com/political-ads/asset/d02f2...</td>\n",
       "      <td>1096</td>\n",
       "      <td>365035</td>\n",
       "      <td>2018/08/25 14:00:00Z</td>\n",
       "      <td>2018/09/08 13:59:59Z</td>\n",
       "      <td>Tubemogul, Inc.</td>\n",
       "      <td>1250 53rd Street,,,Emeryville,94608,US</td>\n",
       "      <td>NaN</td>\n",
       "      <td>Liberal Party</td>\n",
       "      <td>...</td>\n",
       "      <td>NaN</td>\n",
       "      <td>Provided by Advertiser</td>\n",
       "      <td>NaN</td>\n",
       "      <td>NaN</td>\n",
       "      <td>NaN</td>\n",
       "      <td>NaN</td>\n",
       "      <td>NaN</td>\n",
       "      <td>NaN</td>\n",
       "      <td>NaN</td>\n",
       "      <td>Emeryville,US</td>\n",
       "    </tr>\n",
       "    <tr>\n",
       "      <th>4</th>\n",
       "      <td>14535fea019a9b1a910a77ce1555af8bdedbb5c78fb60a...</td>\n",
       "      <td>https://www.snap.com/political-ads/asset/754f6...</td>\n",
       "      <td>6743</td>\n",
       "      <td>3149886</td>\n",
       "      <td>2018/10/06 01:11:41Z</td>\n",
       "      <td>2018/11/07 03:00:00Z</td>\n",
       "      <td>Lockwood Strategy</td>\n",
       "      <td>US</td>\n",
       "      <td>NaN</td>\n",
       "      <td>Change Now</td>\n",
       "      <td>...</td>\n",
       "      <td>NaN</td>\n",
       "      <td>Provided by Advertiser</td>\n",
       "      <td>NaN</td>\n",
       "      <td>NaN</td>\n",
       "      <td>NaN</td>\n",
       "      <td>NaN</td>\n",
       "      <td>NaN</td>\n",
       "      <td>NaN</td>\n",
       "      <td>web_view_url:https://action.socalhealthcarecoa...</td>\n",
       "      <td>US</td>\n",
       "    </tr>\n",
       "  </tbody>\n",
       "</table>\n",
       "<p>5 rows × 28 columns</p>\n",
       "</div>"
      ],
      "text/plain": [
       "                                                ADID  \\\n",
       "0  58be4f8f92574108faaa4c014b579a9de2afb06410add9...   \n",
       "1  82288288e3e363f5e61cb23bacec3831888132c17193c2...   \n",
       "2  bc873a18a6bc1d6b17df5f4d699a621b7a84d14a26f499...   \n",
       "3  8d6bd945e484a50d899364c618d8e30b8918813a2877c8...   \n",
       "4  14535fea019a9b1a910a77ce1555af8bdedbb5c78fb60a...   \n",
       "\n",
       "                                         CreativeUrl  Spend  Impressions  \\\n",
       "0  https://www.snap.com/political-ads/asset/b3074...   2048       186004   \n",
       "1  https://www.snap.com/political-ads/asset/c6cbb...   1025       335092   \n",
       "2  https://www.snap.com/political-ads/asset/31719...    924       399010   \n",
       "3  https://www.snap.com/political-ads/asset/d02f2...   1096       365035   \n",
       "4  https://www.snap.com/political-ads/asset/754f6...   6743      3149886   \n",
       "\n",
       "              StartDate               EndDate          OrganizationName  \\\n",
       "0  2018/10/18 19:42:18Z  2018/11/06 23:00:00Z  Bully Pulpit Interactive   \n",
       "1  2018/08/25 14:00:00Z  2018/09/08 13:59:59Z           Tubemogul, Inc.   \n",
       "2  2018/10/09 15:51:44Z  2018/11/07 03:00:00Z             Penna Powers    \n",
       "3  2018/08/25 14:00:00Z  2018/09/08 13:59:59Z           Tubemogul, Inc.   \n",
       "4  2018/10/06 01:11:41Z  2018/11/07 03:00:00Z         Lockwood Strategy   \n",
       "\n",
       "                                      BillingAddress  \\\n",
       "0  1140 Connecticut Ave NW, Suite 800,Washington,...   \n",
       "1             1250 53rd Street,,,Emeryville,94608,US   \n",
       "2        1706 s major street,salt lake city,84115,US   \n",
       "3             1250 53rd Street,,,Emeryville,94608,US   \n",
       "4                                                 US   \n",
       "\n",
       "  CandidateBallotInformation          PayingAdvertiserName        ...          \\\n",
       "0                        NaN               NextGen America        ...           \n",
       "1                        NaN                 Liberal Party        ...           \n",
       "2                        NaN  Lieutenant Governor's Office        ...           \n",
       "3                        NaN                 Liberal Party        ...           \n",
       "4                        NaN                    Change Now        ...           \n",
       "\n",
       "  OsType                Segments LocationType Language AdvancedDemographics  \\\n",
       "0    NaN                     NaN          NaN      NaN                  NaN   \n",
       "1    NaN  Provided by Advertiser          NaN      NaN                  NaN   \n",
       "2    NaN  Provided by Advertiser          NaN      NaN                  NaN   \n",
       "3    NaN  Provided by Advertiser          NaN      NaN                  NaN   \n",
       "4    NaN  Provided by Advertiser          NaN      NaN                  NaN   \n",
       "\n",
       "   Targeting Connection Type Targeting Carrier (ISP)  \\\n",
       "0                        NaN                     NaN   \n",
       "1                        NaN                     NaN   \n",
       "2                        NaN                     NaN   \n",
       "3                        NaN                     NaN   \n",
       "4                        NaN                     NaN   \n",
       "\n",
       "                         Targeting Geo - Postal Code  \\\n",
       "0  89120,89169,89119,89108,89110,89103,89160,8916...   \n",
       "1                                                NaN   \n",
       "2                                                NaN   \n",
       "3                                                NaN   \n",
       "4                                                NaN   \n",
       "\n",
       "                                  CreativeProperties               City  \n",
       "0                                                NaN      Washington,US  \n",
       "1                                                NaN      Emeryville,US  \n",
       "2                                                NaN  salt lake city,US  \n",
       "3                                                NaN      Emeryville,US  \n",
       "4  web_view_url:https://action.socalhealthcarecoa...                 US  \n",
       "\n",
       "[5 rows x 28 columns]"
      ]
     },
     "execution_count": 17,
     "metadata": {},
     "output_type": "execute_result"
    }
   ],
   "source": [
    "#If the billing address is greater than length three, add the city string and the country string together with a\n",
    "#string in the middle.\n",
    "city_country = ads_copy[\"BillingAddress\"].apply(lambda x: x.split(\",\")[-3] \n",
    "                                                +\",\"+(x.split())[-1][-2:] if len(x.split(\",\")) > 3 else x)\n",
    "city_country.unique()\n",
    "\n",
    "#Create a new column that will have the city and country\n",
    "ads_copy[\"City\"]= city_country\n",
    "ads_copy.head()"
   ]
  },
  {
   "cell_type": "markdown",
   "metadata": {},
   "source": [
    "In order to make sure the City's were from the correct state, I had to look at the address. After I\n",
    "used value_counts() on the different cities where each add orginated, I was able to decide the\n",
    "time zone for each city."
   ]
  },
  {
   "cell_type": "markdown",
   "metadata": {},
   "source": [
    "Create a new column fo the respectice time zone based on the city by calling the time_zone\n",
    "function."
   ]
  },
  {
   "cell_type": "code",
   "execution_count": 19,
   "metadata": {},
   "outputs": [
    {
     "data": {
      "text/html": [
       "<div>\n",
       "<style scoped>\n",
       "    .dataframe tbody tr th:only-of-type {\n",
       "        vertical-align: middle;\n",
       "    }\n",
       "\n",
       "    .dataframe tbody tr th {\n",
       "        vertical-align: top;\n",
       "    }\n",
       "\n",
       "    .dataframe thead th {\n",
       "        text-align: right;\n",
       "    }\n",
       "</style>\n",
       "<table border=\"1\" class=\"dataframe\">\n",
       "  <thead>\n",
       "    <tr style=\"text-align: right;\">\n",
       "      <th></th>\n",
       "      <th>Time_Zone</th>\n",
       "    </tr>\n",
       "  </thead>\n",
       "  <tbody>\n",
       "    <tr>\n",
       "      <th>0</th>\n",
       "      <td>US/Eastern</td>\n",
       "    </tr>\n",
       "    <tr>\n",
       "      <th>1</th>\n",
       "      <td>US/Eastern</td>\n",
       "    </tr>\n",
       "    <tr>\n",
       "      <th>2</th>\n",
       "      <td>US/Eastern</td>\n",
       "    </tr>\n",
       "    <tr>\n",
       "      <th>3</th>\n",
       "      <td>US/Eastern</td>\n",
       "    </tr>\n",
       "    <tr>\n",
       "      <th>4</th>\n",
       "      <td>US/Eastern</td>\n",
       "    </tr>\n",
       "  </tbody>\n",
       "</table>\n",
       "</div>"
      ],
      "text/plain": [
       "    Time_Zone\n",
       "0  US/Eastern\n",
       "1  US/Eastern\n",
       "2  US/Eastern\n",
       "3  US/Eastern\n",
       "4  US/Eastern"
      ]
     },
     "execution_count": 19,
     "metadata": {},
     "output_type": "execute_result"
    }
   ],
   "source": [
    "ads_copy[\"Time_Zone\"] = city_country.apply(time_zone)\n",
    "ads_copy[[\"Time_Zone\"]].head()"
   ]
  },
  {
   "cell_type": "markdown",
   "metadata": {},
   "source": [
    "Clean the combined dataframe by changing datatype of date columns from string to datetime to\n",
    "be able to do calculations to the dates."
   ]
  },
  {
   "cell_type": "code",
   "execution_count": 20,
   "metadata": {},
   "outputs": [
    {
     "data": {
      "text/html": [
       "<div>\n",
       "<style scoped>\n",
       "    .dataframe tbody tr th:only-of-type {\n",
       "        vertical-align: middle;\n",
       "    }\n",
       "\n",
       "    .dataframe tbody tr th {\n",
       "        vertical-align: top;\n",
       "    }\n",
       "\n",
       "    .dataframe thead th {\n",
       "        text-align: right;\n",
       "    }\n",
       "</style>\n",
       "<table border=\"1\" class=\"dataframe\">\n",
       "  <thead>\n",
       "    <tr style=\"text-align: right;\">\n",
       "      <th></th>\n",
       "      <th>StartDate</th>\n",
       "      <th>EndDate</th>\n",
       "    </tr>\n",
       "  </thead>\n",
       "  <tbody>\n",
       "    <tr>\n",
       "      <th>0</th>\n",
       "      <td>2018-10-18 19:42:18</td>\n",
       "      <td>2018-11-06 23:00:00</td>\n",
       "    </tr>\n",
       "    <tr>\n",
       "      <th>1</th>\n",
       "      <td>2018-08-25 14:00:00</td>\n",
       "      <td>2018-09-08 13:59:59</td>\n",
       "    </tr>\n",
       "    <tr>\n",
       "      <th>2</th>\n",
       "      <td>2018-10-09 15:51:44</td>\n",
       "      <td>2018-11-07 03:00:00</td>\n",
       "    </tr>\n",
       "    <tr>\n",
       "      <th>3</th>\n",
       "      <td>2018-08-25 14:00:00</td>\n",
       "      <td>2018-09-08 13:59:59</td>\n",
       "    </tr>\n",
       "    <tr>\n",
       "      <th>4</th>\n",
       "      <td>2018-10-06 01:11:41</td>\n",
       "      <td>2018-11-07 03:00:00</td>\n",
       "    </tr>\n",
       "  </tbody>\n",
       "</table>\n",
       "</div>"
      ],
      "text/plain": [
       "            StartDate             EndDate\n",
       "0 2018-10-18 19:42:18 2018-11-06 23:00:00\n",
       "1 2018-08-25 14:00:00 2018-09-08 13:59:59\n",
       "2 2018-10-09 15:51:44 2018-11-07 03:00:00\n",
       "3 2018-08-25 14:00:00 2018-09-08 13:59:59\n",
       "4 2018-10-06 01:11:41 2018-11-07 03:00:00"
      ]
     },
     "execution_count": 20,
     "metadata": {},
     "output_type": "execute_result"
    }
   ],
   "source": [
    "#convert the timestamps to to_datetime objects and save them to the original dataframe\n",
    "ads_copy[\"StartDate\"]= pd.to_datetime(ads_copy[\"StartDate\"],\n",
    " errors='coerce')\n",
    "ads_copy[\"EndDate\"]= pd.to_datetime(ads_copy[\"EndDate\"],\n",
    " errors='coerce')\n",
    "ads_copy[[\"StartDate\", \"EndDate\"]].head()"
   ]
  },
  {
   "cell_type": "markdown",
   "metadata": {},
   "source": [
    "Find the times and dates that ads were released based on their timezones of the regions they\n",
    "are released in."
   ]
  },
  {
   "cell_type": "code",
   "execution_count": 21,
   "metadata": {},
   "outputs": [],
   "source": [
    "def convert_tz(row):\n",
    "    if row[\"Time_Zone\"]==\"US/Eastern\":\n",
    "        return (row[\"StartDate\"]).tz_localize(pytz.utc).tz_convert(tz = \"US/Eastern\")\n",
    "    if row[\"Time_Zone\"]==\"US/Pacific\":\n",
    "        return (row[\"StartDate\"]).tz_localize(pytz.utc).tz_convert(tz =\"US/Pacific\")\n",
    "    if row[\"Time_Zone\"]==\"Europe/Amsterdam\":\n",
    "        return (row[\"StartDate\"]).tz_localize(pytz.utc).tz_convert(tz = \"Europe/Amsterdam\")\n",
    "    if row[\"Time_Zone\"]==\"Asia/Seoul\":\n",
    "        return (row[\"StartDate\"]).tz_localize(pytz.utc).tz_convert(tz = \"Asia/Seoul\")\n",
    "    if row[\"Time_Zone\"]==\"Australia/ACT\":\n",
    "        return (row[\"StartDate\"]).tz_localize(pytz.utc).tz_convert(tz = \"Australia/ACT\")\n",
    "    if row[\"Time_Zone\"]==\"Egypt\":\n",
    "        return (row[\"StartDate\"]).tz_localize(pytz.utc).tz_convert(tz = \"Egypt\")\n",
    "    if row[\"Time_Zone\"]=='America/Argentina/Buenos_Aires':\n",
    "        return (row[\"StartDate\"]).tz_localize(pytz.utc).tz_convert(tz = 'America/Argentina/Buenos_Aires')"
   ]
  },
  {
   "cell_type": "code",
   "execution_count": 22,
   "metadata": {},
   "outputs": [
    {
     "data": {
      "text/html": [
       "<div>\n",
       "<style scoped>\n",
       "    .dataframe tbody tr th:only-of-type {\n",
       "        vertical-align: middle;\n",
       "    }\n",
       "\n",
       "    .dataframe tbody tr th {\n",
       "        vertical-align: top;\n",
       "    }\n",
       "\n",
       "    .dataframe thead th {\n",
       "        text-align: right;\n",
       "    }\n",
       "</style>\n",
       "<table border=\"1\" class=\"dataframe\">\n",
       "  <thead>\n",
       "    <tr style=\"text-align: right;\">\n",
       "      <th></th>\n",
       "      <th>StartDate</th>\n",
       "      <th>converted_start_date</th>\n",
       "    </tr>\n",
       "  </thead>\n",
       "  <tbody>\n",
       "    <tr>\n",
       "      <th>0</th>\n",
       "      <td>2018-10-18 19:42:18</td>\n",
       "      <td>2018-10-18 15:42:18-04:00</td>\n",
       "    </tr>\n",
       "    <tr>\n",
       "      <th>1</th>\n",
       "      <td>2018-08-25 14:00:00</td>\n",
       "      <td>2018-08-25 10:00:00-04:00</td>\n",
       "    </tr>\n",
       "    <tr>\n",
       "      <th>2</th>\n",
       "      <td>2018-10-09 15:51:44</td>\n",
       "      <td>2018-10-09 11:51:44-04:00</td>\n",
       "    </tr>\n",
       "    <tr>\n",
       "      <th>3</th>\n",
       "      <td>2018-08-25 14:00:00</td>\n",
       "      <td>2018-08-25 10:00:00-04:00</td>\n",
       "    </tr>\n",
       "    <tr>\n",
       "      <th>4</th>\n",
       "      <td>2018-10-06 01:11:41</td>\n",
       "      <td>2018-10-05 21:11:41-04:00</td>\n",
       "    </tr>\n",
       "  </tbody>\n",
       "</table>\n",
       "</div>"
      ],
      "text/plain": [
       "            StartDate       converted_start_date\n",
       "0 2018-10-18 19:42:18  2018-10-18 15:42:18-04:00\n",
       "1 2018-08-25 14:00:00  2018-08-25 10:00:00-04:00\n",
       "2 2018-10-09 15:51:44  2018-10-09 11:51:44-04:00\n",
       "3 2018-08-25 14:00:00  2018-08-25 10:00:00-04:00\n",
       "4 2018-10-06 01:11:41  2018-10-05 21:11:41-04:00"
      ]
     },
     "execution_count": 22,
     "metadata": {},
     "output_type": "execute_result"
    }
   ],
   "source": [
    "#use convert_tz function to convert every timestamp to the correct time zone\n",
    "ads_copy[\"converted_start_date\"]=ads_copy.apply(convert_tz,axis=1)\n",
    "ads_copy[[\"StartDate\", \"converted_start_date\"]].head()"
   ]
  },
  {
   "cell_type": "markdown",
   "metadata": {},
   "source": [
    "Create a new column that describes what time of day each ad was released to have a better\n",
    "idea of how the time could be a characteristic that influences how many impressions/views the\n",
    "ad receives."
   ]
  },
  {
   "cell_type": "code",
   "execution_count": 25,
   "metadata": {},
   "outputs": [],
   "source": [
    "#Afternoon is from 12:01 PM to around 5:00 PM.\n",
    "#Evening is from 5:01 PM to 8 PM, or around sunset.\n",
    "#Night is from sunset to sunrise, so from 8:01 PM until 5:59 AM.\n",
    "\n",
    "def get_part_of_day(time):\n",
    "    #categorize the part of day based on the hours of hour of day\n",
    "    hours=time.hour\n",
    "    if 6 <= hours < 12:\n",
    "        return \"morning\"\n",
    "    if 12 <= hours < 17:\n",
    "        return \"afternoon\"\n",
    "    if 17 <= hours < 25:\n",
    "        return \"evening\"\n",
    "    if 0 <= hours < 6:\n",
    "        return \"evening\""
   ]
  },
  {
   "cell_type": "markdown",
   "metadata": {},
   "source": [
    "Create a new column that contains the part of day that the ad was released in."
   ]
  },
  {
   "cell_type": "code",
   "execution_count": 26,
   "metadata": {},
   "outputs": [
    {
     "data": {
      "text/html": [
       "<div>\n",
       "<style scoped>\n",
       "    .dataframe tbody tr th:only-of-type {\n",
       "        vertical-align: middle;\n",
       "    }\n",
       "\n",
       "    .dataframe tbody tr th {\n",
       "        vertical-align: top;\n",
       "    }\n",
       "\n",
       "    .dataframe thead th {\n",
       "        text-align: right;\n",
       "    }\n",
       "</style>\n",
       "<table border=\"1\" class=\"dataframe\">\n",
       "  <thead>\n",
       "    <tr style=\"text-align: right;\">\n",
       "      <th></th>\n",
       "      <th>ADID</th>\n",
       "      <th>CreativeUrl</th>\n",
       "      <th>Spend</th>\n",
       "      <th>Impressions</th>\n",
       "      <th>StartDate</th>\n",
       "      <th>EndDate</th>\n",
       "      <th>OrganizationName</th>\n",
       "      <th>BillingAddress</th>\n",
       "      <th>CandidateBallotInformation</th>\n",
       "      <th>PayingAdvertiserName</th>\n",
       "      <th>...</th>\n",
       "      <th>Language</th>\n",
       "      <th>AdvancedDemographics</th>\n",
       "      <th>Targeting Connection Type</th>\n",
       "      <th>Targeting Carrier (ISP)</th>\n",
       "      <th>Targeting Geo - Postal Code</th>\n",
       "      <th>CreativeProperties</th>\n",
       "      <th>City</th>\n",
       "      <th>Time_Zone</th>\n",
       "      <th>converted_start_date</th>\n",
       "      <th>Part_of_day_released</th>\n",
       "    </tr>\n",
       "  </thead>\n",
       "  <tbody>\n",
       "    <tr>\n",
       "      <th>0</th>\n",
       "      <td>58be4f8f92574108faaa4c014b579a9de2afb06410add9...</td>\n",
       "      <td>https://www.snap.com/political-ads/asset/b3074...</td>\n",
       "      <td>2048</td>\n",
       "      <td>186004</td>\n",
       "      <td>2018-10-18 19:42:18</td>\n",
       "      <td>2018-11-06 23:00:00</td>\n",
       "      <td>Bully Pulpit Interactive</td>\n",
       "      <td>1140 Connecticut Ave NW, Suite 800,Washington,...</td>\n",
       "      <td>NaN</td>\n",
       "      <td>NextGen America</td>\n",
       "      <td>...</td>\n",
       "      <td>NaN</td>\n",
       "      <td>NaN</td>\n",
       "      <td>NaN</td>\n",
       "      <td>NaN</td>\n",
       "      <td>89120,89169,89119,89108,89110,89103,89160,8916...</td>\n",
       "      <td>NaN</td>\n",
       "      <td>Washington,US</td>\n",
       "      <td>US/Eastern</td>\n",
       "      <td>2018-10-18 15:42:18-04:00</td>\n",
       "      <td>afternoon</td>\n",
       "    </tr>\n",
       "    <tr>\n",
       "      <th>1</th>\n",
       "      <td>82288288e3e363f5e61cb23bacec3831888132c17193c2...</td>\n",
       "      <td>https://www.snap.com/political-ads/asset/c6cbb...</td>\n",
       "      <td>1025</td>\n",
       "      <td>335092</td>\n",
       "      <td>2018-08-25 14:00:00</td>\n",
       "      <td>2018-09-08 13:59:59</td>\n",
       "      <td>Tubemogul, Inc.</td>\n",
       "      <td>1250 53rd Street,,,Emeryville,94608,US</td>\n",
       "      <td>NaN</td>\n",
       "      <td>Liberal Party</td>\n",
       "      <td>...</td>\n",
       "      <td>NaN</td>\n",
       "      <td>NaN</td>\n",
       "      <td>NaN</td>\n",
       "      <td>NaN</td>\n",
       "      <td>NaN</td>\n",
       "      <td>NaN</td>\n",
       "      <td>Emeryville,US</td>\n",
       "      <td>US/Eastern</td>\n",
       "      <td>2018-08-25 10:00:00-04:00</td>\n",
       "      <td>morning</td>\n",
       "    </tr>\n",
       "    <tr>\n",
       "      <th>2</th>\n",
       "      <td>bc873a18a6bc1d6b17df5f4d699a621b7a84d14a26f499...</td>\n",
       "      <td>https://www.snap.com/political-ads/asset/31719...</td>\n",
       "      <td>924</td>\n",
       "      <td>399010</td>\n",
       "      <td>2018-10-09 15:51:44</td>\n",
       "      <td>2018-11-07 03:00:00</td>\n",
       "      <td>Penna Powers</td>\n",
       "      <td>1706 s major street,salt lake city,84115,US</td>\n",
       "      <td>NaN</td>\n",
       "      <td>Lieutenant Governor's Office</td>\n",
       "      <td>...</td>\n",
       "      <td>NaN</td>\n",
       "      <td>NaN</td>\n",
       "      <td>NaN</td>\n",
       "      <td>NaN</td>\n",
       "      <td>NaN</td>\n",
       "      <td>NaN</td>\n",
       "      <td>salt lake city,US</td>\n",
       "      <td>US/Eastern</td>\n",
       "      <td>2018-10-09 11:51:44-04:00</td>\n",
       "      <td>morning</td>\n",
       "    </tr>\n",
       "    <tr>\n",
       "      <th>3</th>\n",
       "      <td>8d6bd945e484a50d899364c618d8e30b8918813a2877c8...</td>\n",
       "      <td>https://www.snap.com/political-ads/asset/d02f2...</td>\n",
       "      <td>1096</td>\n",
       "      <td>365035</td>\n",
       "      <td>2018-08-25 14:00:00</td>\n",
       "      <td>2018-09-08 13:59:59</td>\n",
       "      <td>Tubemogul, Inc.</td>\n",
       "      <td>1250 53rd Street,,,Emeryville,94608,US</td>\n",
       "      <td>NaN</td>\n",
       "      <td>Liberal Party</td>\n",
       "      <td>...</td>\n",
       "      <td>NaN</td>\n",
       "      <td>NaN</td>\n",
       "      <td>NaN</td>\n",
       "      <td>NaN</td>\n",
       "      <td>NaN</td>\n",
       "      <td>NaN</td>\n",
       "      <td>Emeryville,US</td>\n",
       "      <td>US/Eastern</td>\n",
       "      <td>2018-08-25 10:00:00-04:00</td>\n",
       "      <td>morning</td>\n",
       "    </tr>\n",
       "    <tr>\n",
       "      <th>4</th>\n",
       "      <td>14535fea019a9b1a910a77ce1555af8bdedbb5c78fb60a...</td>\n",
       "      <td>https://www.snap.com/political-ads/asset/754f6...</td>\n",
       "      <td>6743</td>\n",
       "      <td>3149886</td>\n",
       "      <td>2018-10-06 01:11:41</td>\n",
       "      <td>2018-11-07 03:00:00</td>\n",
       "      <td>Lockwood Strategy</td>\n",
       "      <td>US</td>\n",
       "      <td>NaN</td>\n",
       "      <td>Change Now</td>\n",
       "      <td>...</td>\n",
       "      <td>NaN</td>\n",
       "      <td>NaN</td>\n",
       "      <td>NaN</td>\n",
       "      <td>NaN</td>\n",
       "      <td>NaN</td>\n",
       "      <td>web_view_url:https://action.socalhealthcarecoa...</td>\n",
       "      <td>US</td>\n",
       "      <td>US/Eastern</td>\n",
       "      <td>2018-10-05 21:11:41-04:00</td>\n",
       "      <td>evening</td>\n",
       "    </tr>\n",
       "  </tbody>\n",
       "</table>\n",
       "<p>5 rows × 31 columns</p>\n",
       "</div>"
      ],
      "text/plain": [
       "                                                ADID  \\\n",
       "0  58be4f8f92574108faaa4c014b579a9de2afb06410add9...   \n",
       "1  82288288e3e363f5e61cb23bacec3831888132c17193c2...   \n",
       "2  bc873a18a6bc1d6b17df5f4d699a621b7a84d14a26f499...   \n",
       "3  8d6bd945e484a50d899364c618d8e30b8918813a2877c8...   \n",
       "4  14535fea019a9b1a910a77ce1555af8bdedbb5c78fb60a...   \n",
       "\n",
       "                                         CreativeUrl  Spend  Impressions  \\\n",
       "0  https://www.snap.com/political-ads/asset/b3074...   2048       186004   \n",
       "1  https://www.snap.com/political-ads/asset/c6cbb...   1025       335092   \n",
       "2  https://www.snap.com/political-ads/asset/31719...    924       399010   \n",
       "3  https://www.snap.com/political-ads/asset/d02f2...   1096       365035   \n",
       "4  https://www.snap.com/political-ads/asset/754f6...   6743      3149886   \n",
       "\n",
       "            StartDate             EndDate          OrganizationName  \\\n",
       "0 2018-10-18 19:42:18 2018-11-06 23:00:00  Bully Pulpit Interactive   \n",
       "1 2018-08-25 14:00:00 2018-09-08 13:59:59           Tubemogul, Inc.   \n",
       "2 2018-10-09 15:51:44 2018-11-07 03:00:00             Penna Powers    \n",
       "3 2018-08-25 14:00:00 2018-09-08 13:59:59           Tubemogul, Inc.   \n",
       "4 2018-10-06 01:11:41 2018-11-07 03:00:00         Lockwood Strategy   \n",
       "\n",
       "                                      BillingAddress  \\\n",
       "0  1140 Connecticut Ave NW, Suite 800,Washington,...   \n",
       "1             1250 53rd Street,,,Emeryville,94608,US   \n",
       "2        1706 s major street,salt lake city,84115,US   \n",
       "3             1250 53rd Street,,,Emeryville,94608,US   \n",
       "4                                                 US   \n",
       "\n",
       "  CandidateBallotInformation          PayingAdvertiserName  \\\n",
       "0                        NaN               NextGen America   \n",
       "1                        NaN                 Liberal Party   \n",
       "2                        NaN  Lieutenant Governor's Office   \n",
       "3                        NaN                 Liberal Party   \n",
       "4                        NaN                    Change Now   \n",
       "\n",
       "          ...          Language AdvancedDemographics  \\\n",
       "0         ...               NaN                  NaN   \n",
       "1         ...               NaN                  NaN   \n",
       "2         ...               NaN                  NaN   \n",
       "3         ...               NaN                  NaN   \n",
       "4         ...               NaN                  NaN   \n",
       "\n",
       "  Targeting Connection Type Targeting Carrier (ISP)  \\\n",
       "0                       NaN                     NaN   \n",
       "1                       NaN                     NaN   \n",
       "2                       NaN                     NaN   \n",
       "3                       NaN                     NaN   \n",
       "4                       NaN                     NaN   \n",
       "\n",
       "                         Targeting Geo - Postal Code  \\\n",
       "0  89120,89169,89119,89108,89110,89103,89160,8916...   \n",
       "1                                                NaN   \n",
       "2                                                NaN   \n",
       "3                                                NaN   \n",
       "4                                                NaN   \n",
       "\n",
       "                                  CreativeProperties               City  \\\n",
       "0                                                NaN      Washington,US   \n",
       "1                                                NaN      Emeryville,US   \n",
       "2                                                NaN  salt lake city,US   \n",
       "3                                                NaN      Emeryville,US   \n",
       "4  web_view_url:https://action.socalhealthcarecoa...                 US   \n",
       "\n",
       "    Time_Zone       converted_start_date Part_of_day_released  \n",
       "0  US/Eastern  2018-10-18 15:42:18-04:00            afternoon  \n",
       "1  US/Eastern  2018-08-25 10:00:00-04:00              morning  \n",
       "2  US/Eastern  2018-10-09 11:51:44-04:00              morning  \n",
       "3  US/Eastern  2018-08-25 10:00:00-04:00              morning  \n",
       "4  US/Eastern  2018-10-05 21:11:41-04:00              evening  \n",
       "\n",
       "[5 rows x 31 columns]"
      ]
     },
     "execution_count": 26,
     "metadata": {},
     "output_type": "execute_result"
    }
   ],
   "source": [
    "ads_copy[\"Part_of_day_released\"]= ads_copy[\"converted_start_date\"].apply(get_part_of_day)\n",
    "ads_copy.head()"
   ]
  },
  {
   "cell_type": "markdown",
   "metadata": {},
   "source": [
    "Get the duration in number of days that the ad was posted on the app to see how long the ad is\n",
    "released to be viewed by Snapchatters."
   ]
  },
  {
   "cell_type": "code",
   "execution_count": 27,
   "metadata": {},
   "outputs": [
    {
     "data": {
      "text/plain": [
       "Duration\n",
       "-5.0    19\n",
       "-4.0     1\n",
       " 0.0    58\n",
       " 1.0    62\n",
       " 2.0    66\n",
       "Name: Duration, dtype: int64"
      ]
     },
     "execution_count": 27,
     "metadata": {},
     "output_type": "execute_result"
    }
   ],
   "source": [
    "#subtract the end date column from start date column\n",
    "difference=ads_copy[\"EndDate\"]-ads_copy[\"StartDate\"]\n",
    "\n",
    "#get the number of days from the duration\n",
    "ads_copy[\"Duration\"]=difference.dt.days\n",
    "\n",
    "#since there are 69 unique days, we should aggregate the values into weeks\n",
    "ads_copy.groupby(\"Duration\")[\"Duration\"].count().head()"
   ]
  },
  {
   "cell_type": "markdown",
   "metadata": {},
   "source": [
    "For some countries that I couldn't find in the dataset like, Helsinki,FI, I didn't include them in the\n",
    "dataset because they represented in less than 1% of the dataset. Essentially, the values that\n",
    "were most represented in the dataset, I made sure they had the correct time zone because, they\n",
    "will influence my answers the most."
   ]
  },
  {
   "cell_type": "markdown",
   "metadata": {},
   "source": [
    "Calculate the number of weeks ads have been released for."
   ]
  },
  {
   "cell_type": "code",
   "execution_count": 28,
   "metadata": {},
   "outputs": [],
   "source": [
    "def day_to_week(value):\n",
    "    #based on the number of days that has passed in the duration, assign the number of weeks that have passed by\n",
    "    if value<=7:\n",
    "        return \"1 week\"\n",
    "    if value<=14:\n",
    "        return \"2 weeks\"\n",
    "    if value <=21:\n",
    "        return \"3 weeks\"\n",
    "    if value <=28:\n",
    "        return \"4 weeks\"\n",
    "    if value <=35:\n",
    "        return \"5 weeks\"\n",
    "    if value <=42:\n",
    "        return \"6 weeks\"\n",
    "    if value <=49:\n",
    "        return \"7 weeks\"\n",
    "    if value <=56:\n",
    "        return \"8 weeks\"\n",
    "    if value <=63:\n",
    "        return \"9 weeks\"\n",
    "    if value <=70:\n",
    "        return \"10 weeks\"\n",
    "    if value <=77:\n",
    "        return \"11 weeks\"\n",
    "    if value <=84:\n",
    "        return \"12 weeks\"\n",
    "    if value <=91:\n",
    "        return \"12 weeks\"\n",
    "    if value<=98:\n",
    "        return \"13 weeks +\"\n",
    "ads_copy[\"Weeks\"]=ads_copy[\"Duration\"].apply(day_to_week)"
   ]
  },
  {
   "cell_type": "markdown",
   "metadata": {},
   "source": [
    "Group the ads by how many weeks they have been released for and then plot to show the\n",
    "distribution of the number of weeks that ads are being released for."
   ]
  },
  {
   "cell_type": "code",
   "execution_count": 29,
   "metadata": {},
   "outputs": [
    {
     "data": {
      "text/plain": [
       "<matplotlib.axes._subplots.AxesSubplot at 0x119dda4e0>"
      ]
     },
     "execution_count": 29,
     "metadata": {},
     "output_type": "execute_result"
    },
    {
     "data": {
      "image/png": "[encoded data removed]",
      "text/plain": [
       "<Figure size 432x288 with 1 Axes>"
      ]
     },
     "metadata": {
      "image/png": {
       "height": 250,
       "width": 430
      },
      "needs_background": "light"
     },
     "output_type": "display_data"
    }
   ],
   "source": [
    "ads_copy.groupby('Weeks')[\"Weeks\"].count().plot(kind='barh')"
   ]
  },
  {
   "cell_type": "markdown",
   "metadata": {},
   "source": [
    "Get number of views that happened during each part of the day based on the duration that the\n",
    "video has been posted."
   ]
  },
  {
   "cell_type": "code",
   "execution_count": 30,
   "metadata": {},
   "outputs": [
    {
     "data": {
      "text/html": [
       "<div>\n",
       "<style scoped>\n",
       "    .dataframe tbody tr th:only-of-type {\n",
       "        vertical-align: middle;\n",
       "    }\n",
       "\n",
       "    .dataframe tbody tr th {\n",
       "        vertical-align: top;\n",
       "    }\n",
       "\n",
       "    .dataframe thead th {\n",
       "        text-align: right;\n",
       "    }\n",
       "</style>\n",
       "<table border=\"1\" class=\"dataframe\">\n",
       "  <thead>\n",
       "    <tr style=\"text-align: right;\">\n",
       "      <th>Part_of_day_released</th>\n",
       "      <th>afternoon</th>\n",
       "      <th>evening</th>\n",
       "      <th>morning</th>\n",
       "    </tr>\n",
       "    <tr>\n",
       "      <th>Weeks</th>\n",
       "      <th></th>\n",
       "      <th></th>\n",
       "      <th></th>\n",
       "    </tr>\n",
       "  </thead>\n",
       "  <tbody>\n",
       "    <tr>\n",
       "      <th>1 week</th>\n",
       "      <td>208.0</td>\n",
       "      <td>308.0</td>\n",
       "      <td>170.0</td>\n",
       "    </tr>\n",
       "    <tr>\n",
       "      <th>11 weeks</th>\n",
       "      <td>1.0</td>\n",
       "      <td>NaN</td>\n",
       "      <td>7.0</td>\n",
       "    </tr>\n",
       "    <tr>\n",
       "      <th>12 weeks</th>\n",
       "      <td>4.0</td>\n",
       "      <td>NaN</td>\n",
       "      <td>1.0</td>\n",
       "    </tr>\n",
       "    <tr>\n",
       "      <th>13 weeks +</th>\n",
       "      <td>NaN</td>\n",
       "      <td>5.0</td>\n",
       "      <td>6.0</td>\n",
       "    </tr>\n",
       "    <tr>\n",
       "      <th>2 weeks</th>\n",
       "      <td>125.0</td>\n",
       "      <td>90.0</td>\n",
       "      <td>117.0</td>\n",
       "    </tr>\n",
       "    <tr>\n",
       "      <th>3 weeks</th>\n",
       "      <td>143.0</td>\n",
       "      <td>102.0</td>\n",
       "      <td>60.0</td>\n",
       "    </tr>\n",
       "    <tr>\n",
       "      <th>4 weeks</th>\n",
       "      <td>60.0</td>\n",
       "      <td>76.0</td>\n",
       "      <td>121.0</td>\n",
       "    </tr>\n",
       "    <tr>\n",
       "      <th>5 weeks</th>\n",
       "      <td>50.0</td>\n",
       "      <td>38.0</td>\n",
       "      <td>82.0</td>\n",
       "    </tr>\n",
       "    <tr>\n",
       "      <th>6 weeks</th>\n",
       "      <td>11.0</td>\n",
       "      <td>23.0</td>\n",
       "      <td>26.0</td>\n",
       "    </tr>\n",
       "    <tr>\n",
       "      <th>7 weeks</th>\n",
       "      <td>11.0</td>\n",
       "      <td>11.0</td>\n",
       "      <td>12.0</td>\n",
       "    </tr>\n",
       "    <tr>\n",
       "      <th>8 weeks</th>\n",
       "      <td>13.0</td>\n",
       "      <td>2.0</td>\n",
       "      <td>1.0</td>\n",
       "    </tr>\n",
       "    <tr>\n",
       "      <th>9 weeks</th>\n",
       "      <td>5.0</td>\n",
       "      <td>NaN</td>\n",
       "      <td>2.0</td>\n",
       "    </tr>\n",
       "  </tbody>\n",
       "</table>\n",
       "</div>"
      ],
      "text/plain": [
       "Part_of_day_released  afternoon  evening  morning\n",
       "Weeks                                            \n",
       "1 week                    208.0    308.0    170.0\n",
       "11 weeks                    1.0      NaN      7.0\n",
       "12 weeks                    4.0      NaN      1.0\n",
       "13 weeks +                  NaN      5.0      6.0\n",
       "2 weeks                   125.0     90.0    117.0\n",
       "3 weeks                   143.0    102.0     60.0\n",
       "4 weeks                    60.0     76.0    121.0\n",
       "5 weeks                    50.0     38.0     82.0\n",
       "6 weeks                    11.0     23.0     26.0\n",
       "7 weeks                    11.0     11.0     12.0\n",
       "8 weeks                    13.0      2.0      1.0\n",
       "9 weeks                     5.0      NaN      2.0"
      ]
     },
     "execution_count": 30,
     "metadata": {},
     "output_type": "execute_result"
    }
   ],
   "source": [
    "#create a pivot tbale to see the how we aggregated the days into weeks\n",
    "pd.pivot_table(ads_copy,index=\"Weeks\",columns=\"Part_of_day_released\",\n",
    " aggfunc=\"size\",values=\"Impressions\")"
   ]
  },
  {
   "cell_type": "markdown",
   "metadata": {},
   "source": [
    "Create a barchart out of the above pivot table."
   ]
  },
  {
   "cell_type": "markdown",
   "metadata": {},
   "source": [
    "**Bivariate Analysis**"
   ]
  },
  {
   "cell_type": "code",
   "execution_count": 33,
   "metadata": {},
   "outputs": [
    {
     "data": {
      "text/plain": [
       "Text(0.5, 1.0, 'Part of day ad was released based on the number of weeks that the ad was                 on the app')"
      ]
     },
     "execution_count": 33,
     "metadata": {},
     "output_type": "execute_result"
    },
    {
     "data": {
      "image/png": "[encoded data removed]",
      "text/plain": [
       "<Figure size 432x288 with 1 Axes>"
      ]
     },
     "metadata": {
      "image/png": {
       "height": 263,
       "width": 598
      },
      "needs_background": "light"
     },
     "output_type": "display_data"
    }
   ],
   "source": [
    "#create a barchart out of pivot table to visualize the number\n",
    "#of ads that were\n",
    "#posted at a certain time\n",
    "#of day based on the number of weeks that the video was posted\n",
    "graph =pd.pivot_table(ads_copy,index=\"Weeks\",columns= \"Part_of_day_released\",\n",
    "aggfunc=\"size\",values=\"Impressions\").plot(kind='barh')\n",
    "graph.set_title(\"Part of day ad was released based on the number of weeks that the ad was \\\n",
    "                on the app\") "
   ]
  },
  {
   "cell_type": "code",
   "execution_count": 34,
   "metadata": {},
   "outputs": [],
   "source": [
    "spend_cat_lst = []\n",
    "for i in ads_copy[\"Spend\"]:\n",
    "    if i < 5000:\n",
    "        spend_cat_lst.append('<5000')\n",
    "    elif i >= 5000 and i < 10000:\n",
    "        spend_cat_lst.append('5000-10000')\n",
    "    elif i>= 10000 and i < 15000:\n",
    "        spend_cat_lst.append('10000-15000')\n",
    "    else:\n",
    "        spend_cat_lst.append('15000+')\n",
    "ads_copy['Spend_Cat'] = spend_cat_lst\n",
    "\n",
    "\n",
    "#filter the dataframe to focus on the columns we will be analyzing\n",
    "#to learn more information about answering a\n",
    "#specific\n",
    "#question about the data\n",
    "filtered_cols_df = ads_copy[[\"Impressions\", \"Spend\", 'Spend_Cat',\n",
    " 'Time_Zone',\n",
    "'converted_start_date',\n",
    "'Part_of_day_released', 'Duration']]"
   ]
  },
  {
   "cell_type": "markdown",
   "metadata": {},
   "source": [
    "**Univariate Analysis:** This is the distribution of all the values in the 'Spend' column."
   ]
  },
  {
   "cell_type": "code",
   "execution_count": 35,
   "metadata": {},
   "outputs": [
    {
     "data": {
      "text/plain": [
       "<matplotlib.axes._subplots.AxesSubplot at 0x119e00978>"
      ]
     },
     "execution_count": 35,
     "metadata": {},
     "output_type": "execute_result"
    },
    {
     "data": {
      "image/png": "[encoded data removed]",
      "text/plain": [
       "<Figure size 432x288 with 1 Axes>"
      ]
     },
     "metadata": {
      "image/png": {
       "height": 250,
       "width": 413
      },
      "needs_background": "light"
     },
     "output_type": "display_data"
    }
   ],
   "source": [
    "filtered_cols_df[\"Spend\"].plot(kind='hist', bins = 10, density = True)"
   ]
  },
  {
   "cell_type": "markdown",
   "metadata": {},
   "source": [
    "This is a filtered version of plotting the distribution of the 'Spend' column since the range of the\n",
    "max value (85000 USD) and the min value (0 USD) in the \"Spend\" column is really wide and the\n",
    "distribution of a lot of the values seem to be less than 5000, so this is another histogram\n",
    "distribution that shows most of the advertisers spendless than 5000 (USD) to create their\n",
    "campaigns."
   ]
  },
  {
   "cell_type": "code",
   "execution_count": 37,
   "metadata": {},
   "outputs": [
    {
     "data": {
      "text/plain": [
       "<matplotlib.axes._subplots.AxesSubplot at 0x118de3160>"
      ]
     },
     "execution_count": 37,
     "metadata": {},
     "output_type": "execute_result"
    },
    {
     "data": {
      "image/png": "[encoded data removed]",
      "text/plain": [
       "<Figure size 432x288 with 1 Axes>"
      ]
     },
     "metadata": {
      "image/png": {
       "height": 250,
       "width": 406
      },
      "needs_background": "light"
     },
     "output_type": "display_data"
    }
   ],
   "source": [
    "filtered_cols_df[filtered_cols_df[\"Spend\"] <= 5000][\"Spend\"].plot(kind='hist', bins = 10, \n",
    "                                                                  density = True)"
   ]
  },
  {
   "cell_type": "markdown",
   "metadata": {},
   "source": [
    "**Univariate Analysis:** This is the distribution of all the values in the 'Impressions' column."
   ]
  },
  {
   "cell_type": "code",
   "execution_count": 38,
   "metadata": {},
   "outputs": [
    {
     "data": {
      "text/plain": [
       "<matplotlib.axes._subplots.AxesSubplot at 0x119111b00>"
      ]
     },
     "execution_count": 38,
     "metadata": {},
     "output_type": "execute_result"
    },
    {
     "data": {
      "image/png": "[encoded data removed]",
      "text/plain": [
       "<Figure size 432x288 with 1 Axes>"
      ]
     },
     "metadata": {
      "image/png": {
       "height": 271,
       "width": 387
      },
      "needs_background": "light"
     },
     "output_type": "display_data"
    }
   ],
   "source": [
    "filtered_cols_df[\"Impressions\"].plot(kind='hist', bins =\n",
    " 10, density = True)"
   ]
  },
  {
   "cell_type": "markdown",
   "metadata": {},
   "source": [
    "This is a filtered version of plotting the distribution of the 'Impressions' column since the range\n",
    "of the max (31309945) and the min value (2) in the \"Impressions\" column is really wide and the\n",
    "distribution of a lot of the values seem to be less than 10,000,000, so this is another histogram\n",
    "distribution that shows most of the advertisers spend less than 5000 (USD) to create their\n",
    "campaigns."
   ]
  },
  {
   "cell_type": "code",
   "execution_count": 41,
   "metadata": {},
   "outputs": [
    {
     "data": {
      "text/plain": [
       "<matplotlib.axes._subplots.AxesSubplot at 0x118f1f438>"
      ]
     },
     "execution_count": 41,
     "metadata": {},
     "output_type": "execute_result"
    },
    {
     "data": {
      "image/png": "[encoded data removed]",
      "text/plain": [
       "<Figure size 432x288 with 1 Axes>"
      ]
     },
     "metadata": {
      "image/png": {
       "height": 262,
       "width": 426
      },
      "needs_background": "light"
     },
     "output_type": "display_data"
    }
   ],
   "source": [
    "filtered_cols_df[filtered_cols_df[\"Impressions\"] <= 10000000][\"Impressions\"].plot(\n",
    "    kind='hist', bins = 10, density = True)"
   ]
  },
  {
   "cell_type": "markdown",
   "metadata": {},
   "source": [
    "**Interesting Aggregation** of 'Impressions' vs 'Spend_Cat' column to observe a categorical\n",
    "distribution of how many ads spend a certain range of money on their ads. This bar graph\n",
    "shows that a majority of the ads spent less than 5000 USD."
   ]
  },
  {
   "cell_type": "code",
   "execution_count": 43,
   "metadata": {},
   "outputs": [
    {
     "data": {
      "text/plain": [
       "<matplotlib.axes._subplots.AxesSubplot at 0x119538da0>"
      ]
     },
     "execution_count": 43,
     "metadata": {},
     "output_type": "execute_result"
    },
    {
     "data": {
      "image/png": "[encoded data removed]",
      "text/plain": [
       "<Figure size 432x288 with 1 Axes>"
      ]
     },
     "metadata": {
      "image/png": {
       "height": 322,
       "width": 383
      },
      "needs_background": "light"
     },
     "output_type": "display_data"
    }
   ],
   "source": [
    "filtered_cols_df.groupby('Spend_Cat')[\"Impressions\"].count().plot(kind = 'bar')"
   ]
  },
  {
   "cell_type": "markdown",
   "metadata": {},
   "source": [
    "**Bivariate Analysis of the 'Spend' and 'Impressions' columns:**\n",
    "\n",
    "\n",
    "This is a line plot that shows the relationship between the \"Spend\" and \"Impressions\" columns\n",
    "to show how the amount of money spent by the advertiser has a correlation with the number of\n",
    "times their ads have been viewed by Snapchatters. This scatter plot shows that there appears\n",
    "to be a positive correlation between the amount advertisers spend on their campaigns and the\n",
    "impressions of their ads but a lot of the values are grouped together in the beginning from 0 to\n",
    "20000 on the x axis ('Spend') which makes it difficult to analyze what the correlation is for a\n",
    "majority of the data."
   ]
  },
  {
   "cell_type": "code",
   "execution_count": 44,
   "metadata": {},
   "outputs": [
    {
     "data": {
      "image/png": "[encoded data removed]",
      "text/plain": [
       "<Figure size 360x360 with 1 Axes>"
      ]
     },
     "metadata": {
      "image/png": {
       "height": 351,
       "width": 350
      },
      "needs_background": "light"
     },
     "output_type": "display_data"
    }
   ],
   "source": [
    "sns.lmplot(data= filtered_cols_df, x='Spend', y='Impressions');"
   ]
  },
  {
   "cell_type": "markdown",
   "metadata": {},
   "source": [
    "**Bivariate Analysis:**\n",
    "\n",
    "This scatter plot is created to take a closer look at the majority of the data\n",
    "points in the distribution of the 'Spend' column and to observe that it has a slight positive\n",
    "correlation to the 'Impressions' data. This plot shows a positive correlation between 'Spend'\n",
    "and 'Impressions' which demonstrates that ads that have had more money spent on creating\n",
    "them tend to also get more views."
   ]
  },
  {
   "cell_type": "code",
   "execution_count": 46,
   "metadata": {},
   "outputs": [
    {
     "data": {
      "image/png": "[encoded data removed]",
      "text/plain": [
       "<Figure size 360x360 with 1 Axes>"
      ]
     },
     "metadata": {
      "image/png": {
       "height": 351,
       "width": 352
      },
      "needs_background": "light"
     },
     "output_type": "display_data"
    }
   ],
   "source": [
    "sns.lmplot(data= filtered_cols_df[filtered_cols_df[\"Spend\"]<= 25000], x='Spend',\n",
    "           y='Impressions');"
   ]
  },
  {
   "cell_type": "markdown",
   "metadata": {},
   "source": [
    "## Assessment of Missingness"
   ]
  },
  {
   "cell_type": "code",
   "execution_count": 47,
   "metadata": {},
   "outputs": [
    {
     "data": {
      "text/plain": [
       "Index(['ADID', 'CreativeUrl', 'Spend', 'Impressions', 'StartDate', 'EndDate',\n",
       "       'OrganizationName', 'BillingAddress', 'CandidateBallotInformation',\n",
       "       'PayingAdvertiserName', 'Gender', 'AgeBracket', 'CountryCode',\n",
       "       'RegionID', 'ElectoralDistrictID', 'LatLongRad', 'MetroID', 'Interests',\n",
       "       'OsType', 'Segments', 'LocationType', 'Language',\n",
       "       'AdvancedDemographics', 'Targeting Connection Type',\n",
       "       'Targeting Carrier (ISP)', 'Targeting Geo - Postal Code',\n",
       "       'CreativeProperties', 'City', 'Time_Zone', 'converted_start_date',\n",
       "       'Part_of_day_released', 'Duration', 'Weeks', 'Spend_Cat'],\n",
       "      dtype='object')"
      ]
     },
     "execution_count": 47,
     "metadata": {},
     "output_type": "execute_result"
    }
   ],
   "source": [
    "ads_copy.columns"
   ]
  },
  {
   "cell_type": "markdown",
   "metadata": {},
   "source": [
    "Checking what columns in our dataframe actually have missing values to perform analysis of\n",
    "missingness and determine if certain columns are dependent on other columns. The list\n",
    "'cols_with_missing_values' include all the column names that have actual missing values and\n",
    "don't include the columns in the readme.txt data dictionary that have empty values that actually\n",
    "represent a value by being empty."
   ]
  },
  {
   "cell_type": "code",
   "execution_count": 48,
   "metadata": {},
   "outputs": [
    {
     "data": {
      "text/plain": [
       "CandidateBallotInformation    2110\n",
       "EndDate                        280\n",
       "Segments                       492\n",
       "LocationType                  2180\n",
       "CreativeProperties             513\n",
       "dtype: int64"
      ]
     },
     "execution_count": 48,
     "metadata": {},
     "output_type": "execute_result"
    }
   ],
   "source": [
    "cols_with_missing_values = [\"CandidateBallotInformation\", \"EndDate\", \"Segments\",\n",
    "                            \"LocationType\", \"CreativeProperties\"]\n",
    "ads_copy[cols_with_missing_values].isnull().sum()"
   ]
  },
  {
   "cell_type": "markdown",
   "metadata": {},
   "source": [
    "Creating a function to help determine what ads would be considered as having large reach or\n",
    "small reach since the main question we are doing data analysis for is to determine the if there\n",
    "are differences in the distributions of the characteristics for large reach and smaller reach ads\n",
    "and gain an understanding about what are some of the characteristics that affect how an ad\n",
    "gets more views."
   ]
  },
  {
   "cell_type": "code",
   "execution_count": 49,
   "metadata": {},
   "outputs": [
    {
     "data": {
      "text/plain": [
       "1095"
      ]
     },
     "execution_count": 49,
     "metadata": {},
     "output_type": "execute_result"
    }
   ],
   "source": [
    "def high_low(value):\n",
    "    #if the number of impressions is less than the median, label the ad as low view count\n",
    "    #and vice versa\n",
    "    if value < 69228:\n",
    "        return \"low view count\"\n",
    "    return \"high view count\"\n",
    "\n",
    "#apply this function to get whether the company got a high or low view count\n",
    "ads_copy[\"High_Low_Count\"]=ads_copy[\"Impressions\"].apply(high_low)\n",
    "ads_copy[ads_copy[\"High_Low_Count\"]==\"high view count\"].shape[0]"
   ]
  },
  {
   "cell_type": "markdown",
   "metadata": {},
   "source": [
    "Performing the permutation tests to analyze dependency of the missingness of a column with\n",
    "missing values to other columns. We chose our missingness column to be the 'LocationType'\n",
    "which has a significant number of missing values and are observing the p-values of the\n",
    "dependency of 'LocationType' missingness values on some of the other categorical columns."
   ]
  },
  {
   "cell_type": "code",
   "execution_count": 54,
   "metadata": {},
   "outputs": [
    {
     "data": {
      "text/plain": [
       "[('High_Low_Count', 0.0),\n",
       " ('Time_Zone', 0.0),\n",
       " ('City', 0.0),\n",
       " ('Weeks', 1.0),\n",
       " ('Duration', 0.0),\n",
       " ('Part_of_day_released', 0.0),\n",
       " ('Gender', 1.0),\n",
       " ('CountryCode', 0.0),\n",
       " ('RegionID', 0.0),\n",
       " ('Spend_Cat', 0.0)]"
      ]
     },
     "execution_count": 54,
     "metadata": {},
     "output_type": "execute_result"
    }
   ],
   "source": [
    "def tvd(data, col, group_col):\n",
    "    \"\"\"tvd of the distribution of values in col bewteen the two groups of group_col. col is\n",
    "    assumed to be categorical.\"\"\"\n",
    "    tvd = (\n",
    "        data.pivot_table(index=col, columns=group_col, aggfunc='size', fill_value=0)\n",
    "        .apply(lambda x: x / x.sum())\n",
    "        #take the difference, absolute value, sum and then divide by 2\n",
    "        .diff(axis=1).iloc[:, -1].abs().sum() / 2)\n",
    "    return tvd\n",
    "\n",
    "def perm4missing(ads2, col,N):\n",
    "    data=ads2.assign(is_null=ads2.LocationType.isnull())\n",
    "    group_col=\"is_null\"\n",
    "    # get the observed test statistic\n",
    "    obs = tvd(data, col, group_col)\n",
    "    # run the permutations\n",
    "    shuffled_stats = []\n",
    "    for _ in range(N):\n",
    "        shuffled = data[group_col].sample(frac=1, replace=False).reset_index(drop=True)\n",
    "        with_shuffled = data[[col]].assign(shuffled=shuffled)\n",
    "        shuffled_stat = tvd(with_shuffled, col, 'shuffled')\n",
    "        shuffled_stats.append(shuffled_stat)\n",
    "        shuffled_stats = np.array(shuffled_stats)\n",
    "        return shuffled_stats,obs\n",
    "    \n",
    "perm_stats_lst= []\n",
    "for i in [\"High_Low_Count\",\"Time_Zone\",\"City\",\"Weeks\",\"Duration\", \"Part_of_day_released\",\n",
    "          \"Gender\",\"CountryCode\",\"RegionID\", \"Spend_Cat\"]:\n",
    "    distr, obs=perm4missing(ads_copy, i,1000)\n",
    "    pval = (distr >= obs).mean()\n",
    "    perm_stats_lst.append((i,pval))\n",
    "\n",
    "perm_stats_lst"
   ]
  },
  {
   "cell_type": "markdown",
   "metadata": {},
   "source": [
    "## Hypothesis Testing"
   ]
  },
  {
   "cell_type": "markdown",
   "metadata": {},
   "source": [
    "Get the max value of impressions for all the ads."
   ]
  },
  {
   "cell_type": "code",
   "execution_count": 55,
   "metadata": {},
   "outputs": [
    {
     "data": {
      "text/plain": [
       "31309945"
      ]
     },
     "execution_count": 55,
     "metadata": {},
     "output_type": "execute_result"
    }
   ],
   "source": [
    "max_impressions = ads_copy[\"Impressions\"].max()\n",
    "max_impressions"
   ]
  },
  {
   "cell_type": "markdown",
   "metadata": {},
   "source": [
    "Get the min value of impressions for all the ads."
   ]
  },
  {
   "cell_type": "code",
   "execution_count": null,
   "metadata": {},
   "outputs": [],
   "source": [
    "min_impressions = ads_copy[\"Impressions\"].min()\n",
    "min_impressions"
   ]
  },
  {
   "cell_type": "markdown",
   "metadata": {},
   "source": [
    "Get the median value of impressions for all the ads."
   ]
  },
  {
   "cell_type": "code",
   "execution_count": 56,
   "metadata": {},
   "outputs": [
    {
     "data": {
      "text/plain": [
       "69228.0"
      ]
     },
     "execution_count": 56,
     "metadata": {},
     "output_type": "execute_result"
    }
   ],
   "source": [
    "median_impressions=ads_copy[\"Impressions\"].median()\n",
    "median_impressions"
   ]
  },
  {
   "cell_type": "markdown",
   "metadata": {},
   "source": [
    "Identify the number of companies in the low view count group."
   ]
  },
  {
   "cell_type": "code",
   "execution_count": 57,
   "metadata": {},
   "outputs": [
    {
     "data": {
      "text/plain": [
       "1094"
      ]
     },
     "execution_count": 57,
     "metadata": {},
     "output_type": "execute_result"
    }
   ],
   "source": [
    "ads_copy[ads_copy[\"High_Low_Count\"]==\"low view count\"].shape[0]"
   ]
  },
  {
   "cell_type": "markdown",
   "metadata": {},
   "source": [
    "Observe the average amount of money spent based on whether the ad got a lot views or not and then use difference of means to calculate the test statistic."
   ]
  },
  {
   "cell_type": "code",
   "execution_count": 68,
   "metadata": {},
   "outputs": [
    {
     "data": {
      "text/html": [
       "<div>\n",
       "<style scoped>\n",
       "    .dataframe tbody tr th:only-of-type {\n",
       "        vertical-align: middle;\n",
       "    }\n",
       "\n",
       "    .dataframe tbody tr th {\n",
       "        vertical-align: top;\n",
       "    }\n",
       "\n",
       "    .dataframe thead th {\n",
       "        text-align: right;\n",
       "    }\n",
       "</style>\n",
       "<table border=\"1\" class=\"dataframe\">\n",
       "  <thead>\n",
       "    <tr style=\"text-align: right;\">\n",
       "      <th></th>\n",
       "      <th>Spend</th>\n",
       "    </tr>\n",
       "    <tr>\n",
       "      <th>High_Low_Count</th>\n",
       "      <th></th>\n",
       "    </tr>\n",
       "  </thead>\n",
       "  <tbody>\n",
       "    <tr>\n",
       "      <th>high view count</th>\n",
       "      <td>2241.794521</td>\n",
       "    </tr>\n",
       "    <tr>\n",
       "      <th>low view count</th>\n",
       "      <td>74.992687</td>\n",
       "    </tr>\n",
       "  </tbody>\n",
       "</table>\n",
       "</div>"
      ],
      "text/plain": [
       "                       Spend\n",
       "High_Low_Count              \n",
       "high view count  2241.794521\n",
       "low view count     74.992687"
      ]
     },
     "execution_count": 68,
     "metadata": {},
     "output_type": "execute_result"
    }
   ],
   "source": [
    "pd.pivot_table(ads_copy,index=\"High_Low_Count\", aggfunc=\"mean\",values=\"Spend\")"
   ]
  },
  {
   "cell_type": "code",
   "execution_count": 69,
   "metadata": {},
   "outputs": [
    {
     "data": {
      "text/plain": [
       "-2166.8018331622047"
      ]
     },
     "execution_count": 69,
     "metadata": {},
     "output_type": "execute_result"
    }
   ],
   "source": [
    "#observed test statistic using difference of means\n",
    "spend_observed= pd.pivot_table(ads_copy,index=\"High_Low_Count\",aggfunc= \"mean\",\n",
    "                              values=\"Spend\").diff().iloc[-1][\"Spend\"]\n",
    "\n",
    "spend_observed"
   ]
  },
  {
   "cell_type": "markdown",
   "metadata": {},
   "source": [
    "Observe the average amount of money spent based on what part of the day the ad was released and then use difference of means to calculate the test statistic."
   ]
  },
  {
   "cell_type": "code",
   "execution_count": 72,
   "metadata": {},
   "outputs": [
    {
     "data": {
      "text/html": [
       "<div>\n",
       "<style scoped>\n",
       "    .dataframe tbody tr th:only-of-type {\n",
       "        vertical-align: middle;\n",
       "    }\n",
       "\n",
       "    .dataframe tbody tr th {\n",
       "        vertical-align: top;\n",
       "    }\n",
       "\n",
       "    .dataframe thead th {\n",
       "        text-align: right;\n",
       "    }\n",
       "</style>\n",
       "<table border=\"1\" class=\"dataframe\">\n",
       "  <thead>\n",
       "    <tr style=\"text-align: right;\">\n",
       "      <th>Part_of_day_released</th>\n",
       "      <th>afternoon</th>\n",
       "      <th>evening</th>\n",
       "      <th>morning</th>\n",
       "    </tr>\n",
       "    <tr>\n",
       "      <th>High_Low_Count</th>\n",
       "      <th></th>\n",
       "      <th></th>\n",
       "      <th></th>\n",
       "    </tr>\n",
       "  </thead>\n",
       "  <tbody>\n",
       "    <tr>\n",
       "      <th>high view count</th>\n",
       "      <td>390</td>\n",
       "      <td>348</td>\n",
       "      <td>357</td>\n",
       "    </tr>\n",
       "    <tr>\n",
       "      <th>low view count</th>\n",
       "      <td>292</td>\n",
       "      <td>473</td>\n",
       "      <td>329</td>\n",
       "    </tr>\n",
       "  </tbody>\n",
       "</table>\n",
       "</div>"
      ],
      "text/plain": [
       "Part_of_day_released  afternoon  evening  morning\n",
       "High_Low_Count                                   \n",
       "high view count             390      348      357\n",
       "low view count              292      473      329"
      ]
     },
     "execution_count": 72,
     "metadata": {},
     "output_type": "execute_result"
    }
   ],
   "source": [
    "time_pivot= pd.pivot_table(ads_copy,index=\"High_Low_Count\",\n",
    " aggfunc= \"size\", columns=\"Part_of_day_released\")\n",
    "\n",
    "time_pivot"
   ]
  },
  {
   "cell_type": "markdown",
   "metadata": {},
   "source": [
    "**First Permutation Test**: tests for a difference in distributions between the amount spent on ads that had a low view count versus a high view count (with significance level at 0.05)"
   ]
  },
  {
   "cell_type": "code",
   "execution_count": 78,
   "metadata": {},
   "outputs": [
    {
     "data": {
      "text/plain": [
       "0.0"
      ]
     },
     "execution_count": 78,
     "metadata": {},
     "output_type": "execute_result"
    }
   ],
   "source": [
    "spend_observed=pd.pivot_table(ads_copy,index=\"High_Low_Count\",\n",
    "                              aggfunc=\"mean\",values=\"Spend\").diff().iloc[-1][\"Spend\"]\n",
    "spend_observed\n",
    "\n",
    "def abs_diff_in_means(data,col,group_col):\n",
    "    \"calculate the absolute differnce in means\"\n",
    "    return abs(data.groupby(group_col)[col].mean().diff().iloc[-1])\n",
    "\n",
    "def perm4missing_spend(ads2, N):\n",
    "    means = []\n",
    "    #run the permutation\n",
    "    for _ in range(N):\n",
    "        \n",
    "        #sample from the \"Spend\" column\n",
    "        shuffled_spend= ads2[\"Spend\"].sample(replace=False,frac=1).reset_index(drop=True)\n",
    "        \n",
    "        #create a shuffled column\n",
    "        original_and_shuffled= (ads2.assign(**{\"Shuffled Spend\": shuffled_spend}))\n",
    "        \n",
    "        #calculate test statistic\n",
    "        group_means = abs_diff_in_means(original_and_shuffled,\"Shuffled Spend\",\n",
    "                                        \"High_Low_Count\")\n",
    "        means.append(group_means)\n",
    "        return np.array(means)\n",
    "\n",
    "distr = perm4missing_spend(ads_copy, 1000)\n",
    "pval = (distr >= abs(spend_observed)).mean()\n",
    "pval"
   ]
  },
  {
   "cell_type": "markdown",
   "metadata": {},
   "source": [
    "**Second Permutation Test**: tests for a difference in distributions between the parts of day released for an ad that had a low view count versus a high view count (with significance level at 0.05)"
   ]
  },
  {
   "cell_type": "code",
   "execution_count": 90,
   "metadata": {},
   "outputs": [
    {
     "data": {
      "text/plain": [
       "0.0"
      ]
     },
     "execution_count": 90,
     "metadata": {},
     "output_type": "execute_result"
    }
   ],
   "source": [
    "def tvd(data, col, group_col):\n",
    "    \"\"\"tvd of the distribution of values in Part of day released\n",
    "    bewteen the two groups, high view count and low view count. col is\n",
    "    assumed to be categorical.\"\"\"\n",
    "    tvd = (data.pivot_table(index=col, columns=group_col, aggfunc='size', fill_value=0)\n",
    "           .apply(lambda x: x / x.sum())\n",
    "           #take the difference between the count in the two rows\n",
    "           .diff(axis=1).iloc[:, -1].abs().sum() / 2)\n",
    "    return tvd\n",
    "\n",
    "def perm4missing_time(ads2, N):\n",
    "    tvds = []\n",
    "    #run the permutations\n",
    "    for _ in range(N):\n",
    "        #sample from the Part of Day released column\n",
    "        shuffled_time=ads2[\"Part_of_day_released\"].sample(replace=False,frac=1).reset_index(drop=True)\n",
    "        \n",
    "        #create a new shuffled column\n",
    "        original_and_shuffled=(ads2.assign(**{\"Shuffled Time\":shuffled_time}))\n",
    "        \n",
    "        #get the test statistic\n",
    "        group_tvd = tvd(original_and_shuffled, \"Shuffled Time\", \"High_Low_Count\")\n",
    "        tvds.append(group_tvd)\n",
    "        return np.array(tvds)\n",
    "\n",
    "    \n",
    "distr = perm4missing_time(ads_copy, 1000)\n",
    "\n",
    "#get the observed test statistic\n",
    "time_observed = tvd(ads_copy,\"Part_of_day_released\",\n",
    " \"High_Low_Count\" )\n",
    "\n",
    "pval = (distr >= time_observed).mean()\n",
    "pval"
   ]
  },
  {
   "cell_type": "markdown",
   "metadata": {},
   "source": [
    "Since both p-values are less than the significance level 0.05, we reject both our null hypotheses.\n",
    "The amount of money spent and time of the day the ads are different for larger reach and\n",
    "smaller reach ads which makes sense because we might expect for larger reach ads to have\n",
    "more money spent on them and to be released at the time of the day that generally most people\n",
    "are on Snapchat."
   ]
  },
  {
   "cell_type": "markdown",
   "metadata": {},
   "source": [
    "# Part 2: Classification Modeling"
   ]
  },
  {
   "cell_type": "markdown",
   "metadata": {},
   "source": [
    "## Summary of Findings\n",
    "\n",
    "### Introduction\n",
    "We are trying to predict whether a Snapchat Ad received a high view count or low view\n",
    "count.This is a classification problem because we are using a logistic regression model to\n",
    "predict categorical variable, which is the label \"high view count\" or \"low view count\". My choice\n",
    "of target variable is the view count category.In order to classify a Snapchat ad as receiving a\n",
    "small or large amount of views, I had to first find the value that corresponds with the median in\n",
    "the \"Impressions\" columns. The median value for views is 69228. If the number of impressions\n",
    "is less than the median, I labeled the ad as low view count and views that were greater than\n",
    "69228 were labeled as high view count. The features that I plan on using are\n",
    "\"Part_of_day_released\",\"Spend\",and \"Duration\". The amount of money spent and time of the\n",
    "day the ads are different for larger reach and smaller reach ads which makes sense because we\n",
    "might expect for larger reach ads to have more money spent on them. We decided to use\n",
    "accuracy as our evaluation metric rather than f1 score because we have a balanced dataset.\n",
    "Our data is balanced because there are 1095 ads that have a high view count and 1094 ads\n",
    "with a low view count.\n",
    "\n",
    "### Baseline Model\n",
    "For our baseline model, we transformed the \"Part_of_day_released\" feature using\n",
    "OneHotEncoder which is a nominal feature since it has categorical values that do not follow any order. We chose this variable for the baseline model because we think this features has a large impact on the number of views of the ads so it wouldk be a good feature to use to predict whether an ad will have a high or low view count. OneHotEncoder is a transformation that can be used on nominal categorical features to transform this feature into binary features. The model performance is measured by the accuracy score of the predictions. Our accuracy score for the predictions is about 0.50 - 0.58 which is a bad evaluation metric because we are classifying each ad into two categories of high view count or low view count so if we get an accuracy score of about 0.50 the model appears to be guessing with a 0.5 chance for each prediction whether it is going to be labeled as a high view count or low view count.\n",
    "\n",
    "\n",
    "### Final Model\n",
    "The features we added are the \"Part_of_day_released\", \"Spend\", \"Duration\" because these are\n",
    "the variables we assessed when performing the EDA of the dataset and observed the\n",
    "relationship between these features with the number of impressions for each ad. \"Spend\" and\n",
    "\"Duration\" are quantitative features and are the two new features we are adding to improve our\n",
    "model performance. We are using LogisticRegression in our final model and when we computed\n",
    "the accuracy score after fitting our model with these three features we got a score of around\n",
    "0.85. Then we found the best parameters for our model by using GridSearch CV and the best\n",
    "parameters we got were clf_penalty as 'l1', clf_c (classifier) as 1000, and clf_solver as liblinear.\n",
    "When we input the values of these best parameters into the Logistic Regression parameters in\n",
    "our pipeline, the accuracy score increases to 0.908. This accuracy score is higher than our\n",
    "baseline model and is a fairly accurate score for our predictions since we used GridSearchCV to find the best parameters for our Logistic Regression model.\n",
    "\n",
    "### Fairness Evaluation\n",
    "Our model is trying to predict the whether an ad has a high or low view count. We used our final\n",
    "model to complete this permutation test. Our parity measure is false positive rates for high and\n",
    "low view count. We decided to use false positive rates because people don't want to spend a\n",
    "lot of money on an ad an get a small amount of views. The false positive rate for ads with a high\n",
    "view count is when the model classifies the ad as a high view count ad when it actually is not a\n",
    "high view count ad. The false positive rate for ads with a low view count is when the model\n",
    "classifies the ad as a low view count ad when it actually is not a low view count ad. The\n",
    "observed test statistic is the difference between the false positive rates for high and low view\n",
    "count ads.Our test statistic is measuring the difference between the false positive rate for ads\n",
    "with high view count and the false positive rate for add with low view count. The model has a\n",
    "similar distribution of false positive rates for ads with high and low view counts because the\n",
    "pvalue is greater than .05. Our model is fair because the distributions of the false positive rates\n",
    "for high and low view counts are similar. Since our pvalue is around.82, is greater than the\n",
    "significance level,.05, we can say that our model is fairer than the baseline model or the model\n",
    "before we finetuned the parameters to. We computed the pvalue by getting a list of the test\n",
    "static and taking the mean of the number of times the test statistic is greater than the observed\n",
    "test statistic. Since the pvalue is greater than .05, I don't reject the null hypothesis. Since the majority of the test statistics are negative (because were computing the test statistic by doing\n",
    "high_view_count_fp-low_view_count_fp), the the alternative hypothesis is that the model\n",
    "performs better on the ads that have a high view count."
   ]
  },
  {
   "cell_type": "markdown",
   "metadata": {},
   "source": [
    "# Code"
   ]
  },
  {
   "cell_type": "markdown",
   "metadata": {},
   "source": [
    "## Baseline Model"
   ]
  },
  {
   "cell_type": "markdown",
   "metadata": {},
   "source": [
    "We are creating the baseline model using one feature which is the \"Part_of_day_released\" and\n",
    "transforming this categorical feature using OneHotEncoder. Since we are performing a\n",
    "classification analysis we chose to use Logistic Regression as our classifier when building our\n",
    "pipeline. The accuracy of the baseline model is 57%."
   ]
  },
  {
   "cell_type": "code",
   "execution_count": 93,
   "metadata": {},
   "outputs": [
    {
     "name": "stderr",
     "output_type": "stream",
     "text": [
      "/anaconda3/envs/myenv/lib/python3.6/site-packages/sklearn/linear_model/logistic.py:433: FutureWarning: Default solver will be changed to 'lbfgs' in 0.22. Specify a solver to silence this warning.\n",
      "  FutureWarning)\n"
     ]
    },
    {
     "data": {
      "text/plain": [
       "0.531021897810219"
      ]
     },
     "execution_count": 93,
     "metadata": {},
     "output_type": "execute_result"
    }
   ],
   "source": [
    "import pandas as pd\n",
    "import numpy as np\n",
    "import seaborn as sns\n",
    "import os\n",
    "from sklearn.tree import DecisionTreeClassifier\n",
    "from sklearn.linear_model import LinearRegression\n",
    "from sklearn.linear_model import LogisticRegression\n",
    "from sklearn.preprocessing import FunctionTransformer\n",
    "from sklearn.preprocessing import OneHotEncoder\n",
    "from sklearn.pipeline import Pipeline\n",
    "from sklearn.compose import ColumnTransformer\n",
    "from sklearn.tree import DecisionTreeRegressor\n",
    "from sklearn.model_selection import train_test_split\n",
    "from sklearn.neighbors import KNeighborsRegressor\n",
    "from sklearn.model_selection import train_test_split\n",
    "from sklearn.ensemble import RandomForestClassifier\n",
    "from sklearn.preprocessing import StandardScaler\n",
    "#from sklearn.impute import SimpleImputercff\n",
    "\n",
    "X=ads_copy[[\"Part_of_day_released\"]]\n",
    "y=ads_copy[\"High_Low_Count\"]\n",
    "ct1=ColumnTransformer([('ohe',OneHotEncoder(sparse=False,\n",
    " handle_unknown=\"ignore\"),\n",
    " [\"Part_of_day_released\"])],remainder=\n",
    " \"passthrough\")\n",
    "pl = Pipeline([('ct1', ct1),(\"clf\",LogisticRegression())])\n",
    "X_train, X_test, y_train, y_test = train_test_split(X, y,test_size=.25)\n",
    "pl.fit(X_test,y_test)\n",
    "predictions = pl.predict(X_test)\n",
    "\n",
    "from sklearn.metrics import accuracy_score\n",
    "acc_random_forest= accuracy_score(y_test,predictions)\n",
    "acc_random_forest"
   ]
  },
  {
   "cell_type": "markdown",
   "metadata": {},
   "source": [
    "## Final Model"
   ]
  },
  {
   "cell_type": "markdown",
   "metadata": {},
   "source": [
    "We need to clean the values in our feature columns before we can transform the features using\n",
    "our pipeline so filled in the null values in the \"Duration\" column."
   ]
  },
  {
   "cell_type": "code",
   "execution_count": 94,
   "metadata": {},
   "outputs": [
    {
     "data": {
      "text/plain": [
       "array([ 19.,  13.,  28.,  32.,  40.,  20.,   4.,  24.,  46.,  53.,   0.,\n",
       "         5.,   6.,   2.,  26.,   3.,  47.,  29.,  30.,  11.,  10.,  80.,\n",
       "         7.,   9.,   1.,  17.,  57.,  15.,  14., 102.,  31.,  25.,   8.,\n",
       "        36.,  16.,  18.,  75.,  12.,  34.,  41., 145.,  50.,  23., 370.,\n",
       "        39.,  99.,  35.,  27.,  21.,  38.,  -5.,  48.,  42.,  96.,  63.,\n",
       "        37.,  83.,  43.,  45.,  22.,  54.,  97.,  79.,  33.,  62.,  73.,\n",
       "        77.,  61.,  -4.])"
      ]
     },
     "execution_count": 94,
     "metadata": {},
     "output_type": "execute_result"
    }
   ],
   "source": [
    "ads_copy['Duration'] = ads_copy['Duration'].fillna(0)\n",
    "ads_copy[\"Duration\"].unique()"
   ]
  },
  {
   "cell_type": "markdown",
   "metadata": {},
   "source": [
    "We are creating the model with two additional features than the baseline model to improve the\n",
    "accuracy score. We are using \"Part_of_day_released\", \"Spend\", \"Duration\" as the features for\n",
    "our final model and using Logistic Regression as the classifier."
   ]
  },
  {
   "cell_type": "code",
   "execution_count": 104,
   "metadata": {},
   "outputs": [
    {
     "ename": "ValueError",
     "evalue": "not enough values to unpack (expected 3, got 2)",
     "output_type": "error",
     "traceback": [
      "\u001b[0;31m---------------------------------------------------------------------------\u001b[0m",
      "\u001b[0;31mValueError\u001b[0m                                Traceback (most recent call last)",
      "\u001b[0;32m<ipython-input-104-d8194286cd20>\u001b[0m in \u001b[0;36m<module>\u001b[0;34m\u001b[0m\n\u001b[1;32m     10\u001b[0m \u001b[0mpl\u001b[0m \u001b[0;34m=\u001b[0m \u001b[0mPipeline\u001b[0m\u001b[0;34m(\u001b[0m\u001b[0;34m[\u001b[0m\u001b[0;34m(\u001b[0m\u001b[0;34m'ct1'\u001b[0m\u001b[0;34m,\u001b[0m \u001b[0mct1\u001b[0m\u001b[0;34m)\u001b[0m\u001b[0;34m,\u001b[0m\u001b[0;34m(\u001b[0m\u001b[0;34m\"clf\"\u001b[0m\u001b[0;34m,\u001b[0m\u001b[0mLogisticRegression\u001b[0m\u001b[0;34m(\u001b[0m\u001b[0;34m)\u001b[0m\u001b[0;34m)\u001b[0m\u001b[0;34m]\u001b[0m\u001b[0;34m)\u001b[0m\u001b[0;34m\u001b[0m\u001b[0m\n\u001b[1;32m     11\u001b[0m \u001b[0mX_train\u001b[0m\u001b[0;34m,\u001b[0m \u001b[0mX_test\u001b[0m\u001b[0;34m,\u001b[0m \u001b[0my_train\u001b[0m\u001b[0;34m,\u001b[0m \u001b[0my_test\u001b[0m \u001b[0;34m=\u001b[0m \u001b[0mtrain_test_split\u001b[0m\u001b[0;34m(\u001b[0m\u001b[0mX\u001b[0m\u001b[0;34m,\u001b[0m \u001b[0my\u001b[0m\u001b[0;34m,\u001b[0m\u001b[0mtest_size\u001b[0m\u001b[0;34m=\u001b[0m\u001b[0;36m.25\u001b[0m\u001b[0;34m)\u001b[0m\u001b[0;34m\u001b[0m\u001b[0m\n\u001b[0;32m---> 12\u001b[0;31m \u001b[0mpl\u001b[0m\u001b[0;34m.\u001b[0m\u001b[0mfit\u001b[0m\u001b[0;34m(\u001b[0m\u001b[0mX_test\u001b[0m\u001b[0;34m,\u001b[0m\u001b[0my_test\u001b[0m\u001b[0;34m)\u001b[0m\u001b[0;34m\u001b[0m\u001b[0m\n\u001b[0m\u001b[1;32m     13\u001b[0m \u001b[0mpredictions\u001b[0m \u001b[0;34m=\u001b[0m \u001b[0mpl\u001b[0m\u001b[0;34m.\u001b[0m\u001b[0mpredict\u001b[0m\u001b[0;34m(\u001b[0m\u001b[0mX_test\u001b[0m\u001b[0;34m)\u001b[0m\u001b[0;34m\u001b[0m\u001b[0m\n\u001b[1;32m     14\u001b[0m \u001b[0;34m\u001b[0m\u001b[0m\n",
      "\u001b[0;32m/anaconda3/envs/myenv/lib/python3.6/site-packages/sklearn/pipeline.py\u001b[0m in \u001b[0;36mfit\u001b[0;34m(self, X, y, **fit_params)\u001b[0m\n\u001b[1;32m    263\u001b[0m             \u001b[0mThis\u001b[0m \u001b[0mestimator\u001b[0m\u001b[0;34m\u001b[0m\u001b[0m\n\u001b[1;32m    264\u001b[0m         \"\"\"\n\u001b[0;32m--> 265\u001b[0;31m         \u001b[0mXt\u001b[0m\u001b[0;34m,\u001b[0m \u001b[0mfit_params\u001b[0m \u001b[0;34m=\u001b[0m \u001b[0mself\u001b[0m\u001b[0;34m.\u001b[0m\u001b[0m_fit\u001b[0m\u001b[0;34m(\u001b[0m\u001b[0mX\u001b[0m\u001b[0;34m,\u001b[0m \u001b[0my\u001b[0m\u001b[0;34m,\u001b[0m \u001b[0;34m**\u001b[0m\u001b[0mfit_params\u001b[0m\u001b[0;34m)\u001b[0m\u001b[0;34m\u001b[0m\u001b[0m\n\u001b[0m\u001b[1;32m    266\u001b[0m         \u001b[0;32mif\u001b[0m \u001b[0mself\u001b[0m\u001b[0;34m.\u001b[0m\u001b[0m_final_estimator\u001b[0m \u001b[0;32mis\u001b[0m \u001b[0;32mnot\u001b[0m \u001b[0;32mNone\u001b[0m\u001b[0;34m:\u001b[0m\u001b[0;34m\u001b[0m\u001b[0m\n\u001b[1;32m    267\u001b[0m             \u001b[0mself\u001b[0m\u001b[0;34m.\u001b[0m\u001b[0m_final_estimator\u001b[0m\u001b[0;34m.\u001b[0m\u001b[0mfit\u001b[0m\u001b[0;34m(\u001b[0m\u001b[0mXt\u001b[0m\u001b[0;34m,\u001b[0m \u001b[0my\u001b[0m\u001b[0;34m,\u001b[0m \u001b[0;34m**\u001b[0m\u001b[0mfit_params\u001b[0m\u001b[0;34m)\u001b[0m\u001b[0;34m\u001b[0m\u001b[0m\n",
      "\u001b[0;32m/anaconda3/envs/myenv/lib/python3.6/site-packages/sklearn/pipeline.py\u001b[0m in \u001b[0;36m_fit\u001b[0;34m(self, X, y, **fit_params)\u001b[0m\n\u001b[1;32m    228\u001b[0m                 Xt, fitted_transformer = fit_transform_one_cached(\n\u001b[1;32m    229\u001b[0m                     \u001b[0mcloned_transformer\u001b[0m\u001b[0;34m,\u001b[0m \u001b[0mXt\u001b[0m\u001b[0;34m,\u001b[0m \u001b[0my\u001b[0m\u001b[0;34m,\u001b[0m \u001b[0;32mNone\u001b[0m\u001b[0;34m,\u001b[0m\u001b[0;34m\u001b[0m\u001b[0m\n\u001b[0;32m--> 230\u001b[0;31m                     **fit_params_steps[name])\n\u001b[0m\u001b[1;32m    231\u001b[0m                 \u001b[0;31m# Replace the transformer of the step with the fitted\u001b[0m\u001b[0;34m\u001b[0m\u001b[0;34m\u001b[0m\u001b[0m\n\u001b[1;32m    232\u001b[0m                 \u001b[0;31m# transformer. This is necessary when loading the transformer\u001b[0m\u001b[0;34m\u001b[0m\u001b[0;34m\u001b[0m\u001b[0m\n",
      "\u001b[0;32m/anaconda3/envs/myenv/lib/python3.6/site-packages/sklearn/externals/joblib/memory.py\u001b[0m in \u001b[0;36m__call__\u001b[0;34m(self, *args, **kwargs)\u001b[0m\n\u001b[1;32m    340\u001b[0m \u001b[0;34m\u001b[0m\u001b[0m\n\u001b[1;32m    341\u001b[0m     \u001b[0;32mdef\u001b[0m \u001b[0m__call__\u001b[0m\u001b[0;34m(\u001b[0m\u001b[0mself\u001b[0m\u001b[0;34m,\u001b[0m \u001b[0;34m*\u001b[0m\u001b[0margs\u001b[0m\u001b[0;34m,\u001b[0m \u001b[0;34m**\u001b[0m\u001b[0mkwargs\u001b[0m\u001b[0;34m)\u001b[0m\u001b[0;34m:\u001b[0m\u001b[0;34m\u001b[0m\u001b[0m\n\u001b[0;32m--> 342\u001b[0;31m         \u001b[0;32mreturn\u001b[0m \u001b[0mself\u001b[0m\u001b[0;34m.\u001b[0m\u001b[0mfunc\u001b[0m\u001b[0;34m(\u001b[0m\u001b[0;34m*\u001b[0m\u001b[0margs\u001b[0m\u001b[0;34m,\u001b[0m \u001b[0;34m**\u001b[0m\u001b[0mkwargs\u001b[0m\u001b[0;34m)\u001b[0m\u001b[0;34m\u001b[0m\u001b[0m\n\u001b[0m\u001b[1;32m    343\u001b[0m \u001b[0;34m\u001b[0m\u001b[0m\n\u001b[1;32m    344\u001b[0m     \u001b[0;32mdef\u001b[0m \u001b[0mcall_and_shelve\u001b[0m\u001b[0;34m(\u001b[0m\u001b[0mself\u001b[0m\u001b[0;34m,\u001b[0m \u001b[0;34m*\u001b[0m\u001b[0margs\u001b[0m\u001b[0;34m,\u001b[0m \u001b[0;34m**\u001b[0m\u001b[0mkwargs\u001b[0m\u001b[0;34m)\u001b[0m\u001b[0;34m:\u001b[0m\u001b[0;34m\u001b[0m\u001b[0m\n",
      "\u001b[0;32m/anaconda3/envs/myenv/lib/python3.6/site-packages/sklearn/pipeline.py\u001b[0m in \u001b[0;36m_fit_transform_one\u001b[0;34m(transformer, X, y, weight, **fit_params)\u001b[0m\n\u001b[1;32m    612\u001b[0m \u001b[0;32mdef\u001b[0m \u001b[0m_fit_transform_one\u001b[0m\u001b[0;34m(\u001b[0m\u001b[0mtransformer\u001b[0m\u001b[0;34m,\u001b[0m \u001b[0mX\u001b[0m\u001b[0;34m,\u001b[0m \u001b[0my\u001b[0m\u001b[0;34m,\u001b[0m \u001b[0mweight\u001b[0m\u001b[0;34m,\u001b[0m \u001b[0;34m**\u001b[0m\u001b[0mfit_params\u001b[0m\u001b[0;34m)\u001b[0m\u001b[0;34m:\u001b[0m\u001b[0;34m\u001b[0m\u001b[0m\n\u001b[1;32m    613\u001b[0m     \u001b[0;32mif\u001b[0m \u001b[0mhasattr\u001b[0m\u001b[0;34m(\u001b[0m\u001b[0mtransformer\u001b[0m\u001b[0;34m,\u001b[0m \u001b[0;34m'fit_transform'\u001b[0m\u001b[0;34m)\u001b[0m\u001b[0;34m:\u001b[0m\u001b[0;34m\u001b[0m\u001b[0m\n\u001b[0;32m--> 614\u001b[0;31m         \u001b[0mres\u001b[0m \u001b[0;34m=\u001b[0m \u001b[0mtransformer\u001b[0m\u001b[0;34m.\u001b[0m\u001b[0mfit_transform\u001b[0m\u001b[0;34m(\u001b[0m\u001b[0mX\u001b[0m\u001b[0;34m,\u001b[0m \u001b[0my\u001b[0m\u001b[0;34m,\u001b[0m \u001b[0;34m**\u001b[0m\u001b[0mfit_params\u001b[0m\u001b[0;34m)\u001b[0m\u001b[0;34m\u001b[0m\u001b[0m\n\u001b[0m\u001b[1;32m    615\u001b[0m     \u001b[0;32melse\u001b[0m\u001b[0;34m:\u001b[0m\u001b[0;34m\u001b[0m\u001b[0m\n\u001b[1;32m    616\u001b[0m         \u001b[0mres\u001b[0m \u001b[0;34m=\u001b[0m \u001b[0mtransformer\u001b[0m\u001b[0;34m.\u001b[0m\u001b[0mfit\u001b[0m\u001b[0;34m(\u001b[0m\u001b[0mX\u001b[0m\u001b[0;34m,\u001b[0m \u001b[0my\u001b[0m\u001b[0;34m,\u001b[0m \u001b[0;34m**\u001b[0m\u001b[0mfit_params\u001b[0m\u001b[0;34m)\u001b[0m\u001b[0;34m.\u001b[0m\u001b[0mtransform\u001b[0m\u001b[0;34m(\u001b[0m\u001b[0mX\u001b[0m\u001b[0;34m)\u001b[0m\u001b[0;34m\u001b[0m\u001b[0m\n",
      "\u001b[0;32m/anaconda3/envs/myenv/lib/python3.6/site-packages/sklearn/compose/_column_transformer.py\u001b[0m in \u001b[0;36mfit_transform\u001b[0;34m(self, X, y)\u001b[0m\n\u001b[1;32m    443\u001b[0m         \"\"\"\n\u001b[1;32m    444\u001b[0m         \u001b[0mX\u001b[0m \u001b[0;34m=\u001b[0m \u001b[0m_check_X\u001b[0m\u001b[0;34m(\u001b[0m\u001b[0mX\u001b[0m\u001b[0;34m)\u001b[0m\u001b[0;34m\u001b[0m\u001b[0m\n\u001b[0;32m--> 445\u001b[0;31m         \u001b[0mself\u001b[0m\u001b[0;34m.\u001b[0m\u001b[0m_validate_transformers\u001b[0m\u001b[0;34m(\u001b[0m\u001b[0;34m)\u001b[0m\u001b[0;34m\u001b[0m\u001b[0m\n\u001b[0m\u001b[1;32m    446\u001b[0m         \u001b[0mself\u001b[0m\u001b[0;34m.\u001b[0m\u001b[0m_validate_column_callables\u001b[0m\u001b[0;34m(\u001b[0m\u001b[0mX\u001b[0m\u001b[0;34m)\u001b[0m\u001b[0;34m\u001b[0m\u001b[0m\n\u001b[1;32m    447\u001b[0m         \u001b[0mself\u001b[0m\u001b[0;34m.\u001b[0m\u001b[0m_validate_remainder\u001b[0m\u001b[0;34m(\u001b[0m\u001b[0mX\u001b[0m\u001b[0;34m)\u001b[0m\u001b[0;34m\u001b[0m\u001b[0m\n",
      "\u001b[0;32m/anaconda3/envs/myenv/lib/python3.6/site-packages/sklearn/compose/_column_transformer.py\u001b[0m in \u001b[0;36m_validate_transformers\u001b[0;34m(self)\u001b[0m\n\u001b[1;32m    254\u001b[0m             \u001b[0;32mreturn\u001b[0m\u001b[0;34m\u001b[0m\u001b[0m\n\u001b[1;32m    255\u001b[0m \u001b[0;34m\u001b[0m\u001b[0m\n\u001b[0;32m--> 256\u001b[0;31m         \u001b[0mnames\u001b[0m\u001b[0;34m,\u001b[0m \u001b[0mtransformers\u001b[0m\u001b[0;34m,\u001b[0m \u001b[0m_\u001b[0m \u001b[0;34m=\u001b[0m \u001b[0mzip\u001b[0m\u001b[0;34m(\u001b[0m\u001b[0;34m*\u001b[0m\u001b[0mself\u001b[0m\u001b[0;34m.\u001b[0m\u001b[0mtransformers\u001b[0m\u001b[0;34m)\u001b[0m\u001b[0;34m\u001b[0m\u001b[0m\n\u001b[0m\u001b[1;32m    257\u001b[0m \u001b[0;34m\u001b[0m\u001b[0m\n\u001b[1;32m    258\u001b[0m         \u001b[0;31m# validate names\u001b[0m\u001b[0;34m\u001b[0m\u001b[0;34m\u001b[0m\u001b[0m\n",
      "\u001b[0;31mValueError\u001b[0m: not enough values to unpack (expected 3, got 2)"
     ]
    }
   ],
   "source": [
    "#extract these three features\n",
    "X=ads_copy[[\"Part_of_day_released\", \"Spend\", \"Duration\"]]\n",
    "#get the predicted y values\n",
    "y=ads_copy[\"High_Low_Count\"]\n",
    "ct1=ColumnTransformer([('scaler', StandardScaler(), [\"Spend\",\"Duration\"]), \n",
    "                       ('ohe', OneHotEncoder(sparse=False,\n",
    "                                            handle_unknown =\"ignore\")[\"Part_of_day_released\"])],\n",
    " remainder=\"passthrough\")\n",
    "\n",
    "pl = Pipeline([('ct1', ct1),(\"clf\",LogisticRegression())])\n",
    "X_train, X_test, y_train, y_test = train_test_split(X, y,test_size=.25)\n",
    "pl.fit(X_test,y_test)\n",
    "predictions = pl.predict(X_test)\n",
    "\n",
    "from sklearn.metrics import accuracy_score\n",
    "acc_random_forest= accuracy_score(y_test,predictions)\n",
    "acc_random_forest"
   ]
  },
  {
   "cell_type": "markdown",
   "metadata": {},
   "source": [
    "The accuracy before we fine tune the parameters is .81%"
   ]
  },
  {
   "cell_type": "code",
   "execution_count": null,
   "metadata": {},
   "outputs": [],
   "source": []
  }
 ],
 "metadata": {
  "kernelspec": {
   "display_name": "Python 3",
   "language": "python",
   "name": "python3"
  },
  "language_info": {
   "codemirror_mode": {
    "name": "ipython",
    "version": 3
   },
   "file_extension": ".py",
   "mimetype": "text/x-python",
   "name": "python",
   "nbconvert_exporter": "python",
   "pygments_lexer": "ipython3",
   "version": "3.6.5"
  }
 },
 "nbformat": 4,
 "nbformat_minor": 2
}
